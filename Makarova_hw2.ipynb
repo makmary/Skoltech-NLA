{
 "cells": [
  {
   "cell_type": "markdown",
   "metadata": {
    "id": "t9v1vX4-OGIT"
   },
   "source": [
    "# Problem set 2 (45 + 50 + 33 + 15 = 143 pts)"
   ]
  },
  {
   "cell_type": "markdown",
   "metadata": {
    "id": "FOMNJ4TcOGIV"
   },
   "source": [
    "## Problem 1 (LU decomposition) 45 pts\n"
   ]
  },
  {
   "cell_type": "markdown",
   "metadata": {
    "id": "pYHDl6ppOGIV"
   },
   "source": [
    "### 1. LU  for band matrices and Cholesky decomposition (13 pts)\n",
    "\n",
    "The complexity to find an LU decomposition of a dense $n\\times n$ matrix is $\\mathcal{O}(n^3)$.\n",
    "Significant reduction in complexity can be achieved if the matrix has a certain structure, e.g. it is sparse. \n",
    "In the following task we consider an important example of $LU$ for a special type of matrices –– band matrices with top left entry equal to 1 and the bandwidth $m$ equal to 3 or 5 which called tridiagonal and pentadiagonal respectively. The bands may be ```[1, 2, 1]``` and ```[1, 1, 2, 1, 1]``` respectively\n",
    "\n",
    "- (4 pts) Write a function ```band_lu(diag_broadcast, n)``` which computes LU decomposition for tridiagonal or pentadiagonal matrix with top left entry equal to 1 with given diagonal bands. \n",
    "For example, input parametres ```(diag_broadcast = [1,2,1], n = 4)``` mean that we need to find LU decomposition for the triangular matrix of the form:\n",
    "\n",
    "$$A = \\begin{pmatrix}\n",
    "1 & 1 & 0 & 0\\\\\n",
    "1 & 2 & 1 & 0 \\\\\n",
    "0 & 1 & 2 & 1 \\\\\n",
    "0 & 0 & 1 & 2 \\\\\n",
    "\\end{pmatrix}.$$\n",
    "\n",
    "Provide the extensive testing of the implemented function that will works correctly for large $n$,  e.g. $n=100$.\n",
    "As an output it is considered to make ```L``` and ```U``` - 2D arrays representing diagonals in factors $L$ (```L[0]``` keeps first lower diagonal, ```L[1]``` keeps second lower, ...), and $U$ (```U[:,0]``` keeps main diagonal, ```U[:,1]``` keeps first upper, ...).\n",
    "\n",
    "\n"
   ]
  },
  {
   "cell_type": "code",
   "execution_count": 3,
   "metadata": {},
   "outputs": [],
   "source": [
    "from scipy.sparse import diags\n",
    "import numpy as np\n",
    "from scipy.linalg import lu\n",
    "import time\n",
    "import scipy\n",
    "import matplotlib.pyplot as plt"
   ]
  },
  {
   "cell_type": "code",
   "execution_count": 58,
   "metadata": {
    "scrolled": false
   },
   "outputs": [
    {
     "name": "stdout",
     "output_type": "stream",
     "text": [
      "matrix A\n",
      "[[1. 1. 1. 0. 0. 0.]\n",
      " [1. 2. 1. 1. 0. 0.]\n",
      " [1. 1. 2. 1. 1. 0.]\n",
      " [0. 1. 1. 2. 1. 1.]\n",
      " [0. 0. 1. 1. 2. 1.]\n",
      " [0. 0. 0. 1. 1. 2.]]\n",
      "\n",
      "matrix L\n",
      "[[1. 0. 0. 0. 0. 0.]\n",
      " [1. 1. 0. 0. 0. 0.]\n",
      " [1. 0. 1. 0. 0. 0.]\n",
      " [0. 1. 1. 0. 0. 1.]\n",
      " [0. 0. 1. 0. 1. 0.]\n",
      " [0. 0. 0. 1. 0. 0.]]\n",
      "\n",
      "matrix U\n",
      "[[1. 1. 1. 0. 0. 0.]\n",
      " [0. 1. 0. 1. 0. 0.]\n",
      " [0. 0. 1. 1. 1. 0.]\n",
      " [0. 0. 0. 1. 1. 2.]\n",
      " [0. 0. 0. 0. 1. 1.]\n",
      " [0. 0. 0. 0. 0. 1.]]\n"
     ]
    }
   ],
   "source": [
    "diag_broadcast_3 = [1, 2, 1]\n",
    "diag_broadcast_5 = [1, 1, 2, 1, 1]\n",
    "\n",
    "offsets_3 = [-1, 0 , 1]\n",
    "offsets_5 = [-2, -1, 0, 1, 2]\n",
    "\n",
    "# The custom band_lu will not work for this case, we will get the problem with division by zero.\n",
    "A = diags(diag_broadcast_5, offsets_5, shape=(6,6)).toarray()\n",
    "A[0, 0] = 1\n",
    "print('matrix A')\n",
    "print(A)\n",
    "print()\n",
    "L, U = lu(A, permute_l=True)\n",
    "print('matrix L')\n",
    "print(L)\n",
    "print()\n",
    "print('matrix U')\n",
    "print(U)"
   ]
  },
  {
   "cell_type": "code",
   "execution_count": 59,
   "metadata": {},
   "outputs": [],
   "source": [
    "A_res = L@U\n",
    "assert np.array_equal(A_res, A), 'Not same'"
   ]
  },
  {
   "cell_type": "code",
   "execution_count": 60,
   "metadata": {
    "id": "XVySYJbTOGIa",
    "scrolled": false
   },
   "outputs": [],
   "source": [
    "# INPUT : diag_broadcast - list of diagonals value to broadcast,length equal to 3 or 5; n - integer, band matrix shape.\n",
    "# OUTPUT : L - 2D np.ndarray, L.shape[0] depends on bandwidth, L.shape[1] = n-1, do not store main diagonal, where all ones;   \n",
    "#                   add zeros to the right side of rows to handle with changing length of diagonals.\n",
    "#          U - 2D np.ndarray, U.shape[0] = n, U.shape[1] depends on bandwidth;\n",
    "#              add zeros to the bottom of columns to handle with changing length of diagonals.\n",
    "\n",
    "def band_lu(diag_broadcast, n):\n",
    "    band_len = len(diag_broadcast)\n",
    "    if band_len != 3 and band_len !=5:\n",
    "        raise NotImplementedError()\n",
    "        \n",
    "    if band_len == 3:\n",
    "        diag0, diag1, diag2 = diag_broadcast\n",
    "        L, U = np.zeros((1, n - 1)), np.zeros((n, 2)) \n",
    "        U[0, 0] = 1\n",
    "        U[:-1, 1] = diag2\n",
    "        for i in range(1, n):\n",
    "            L[0, i-1] = diag0 / U[i-1, 0]\n",
    "            U[i, 0] = diag1 - L[0, i-1] * diag2\n",
    "            \n",
    "    elif band_len == 5:\n",
    "        diag0, diag1, diag2, diag3, diag4 = diag_broadcast\n",
    "        L, U = np.zeros((2, n - 1)), np.zeros((n, 3))\n",
    "        U[:-2, 2] = diag4\n",
    "        U[0, 0],  U[0, 1] = 1, diag3\n",
    "        L[0, 0] = diag1 / U[0, 0]\n",
    "        U[1, 0] = diag2 - L[0, 0] * U[0, 1]\n",
    "        U[1, 1] = diag3 - L[0, 0] * diag4\n",
    "        for i in range(2, n):\n",
    "            L[1, i-2] = diag0 / U[i-2, 0]            \n",
    "            L[0, i-1] = (diag1 - L[1, i-2] * U[i-2, 1]) / U[i-1, 0]\n",
    "            U[i, 0] = diag2 - L[1, i-2] * diag4 - L[0, i-1] * U[i-1, 1]\n",
    "            U[i, 1] = diag3 - L[0, i-1] * diag4\n",
    "        U[n-1, 1] = 0\n",
    "    return L, U"
   ]
  },
  {
   "cell_type": "code",
   "execution_count": 61,
   "metadata": {},
   "outputs": [
    {
     "name": "stdout",
     "output_type": "stream",
     "text": [
      "Tridiagonal matrix:\n",
      "L is lower triangular  True \n",
      "U is upper triangular True\n",
      "True\n"
     ]
    }
   ],
   "source": [
    "n = 100\n",
    "\n",
    "print('Tridiagonal matrix:')\n",
    "matrix_l, matrix_u = band_lu(diag_broadcast_3, n)\n",
    "A = diags(diag_broadcast_3, [-1, 0, 1], shape=(n, n)).toarray()\n",
    "A[0, 0] = 1\n",
    "L = diags(matrix_l, [-1], shape=(n, n)).toarray() + np.eye(n)\n",
    "U = diags(matrix_u.T, [0, 1], shape=(n, n)).toarray()\n",
    "print('L is lower triangular ', np.allclose(L, np.tril(L)), \n",
    "      '\\nU is upper triangular', np.allclose(U, np.triu(U)))\n",
    "A_res = L@U\n",
    "print(np.allclose(A - A_res, np.zeros((n, n))))"
   ]
  },
  {
   "cell_type": "code",
   "execution_count": 62,
   "metadata": {},
   "outputs": [
    {
     "name": "stdout",
     "output_type": "stream",
     "text": [
      "Pentadiagonal matrix:\n",
      "L is lower triangular  True \n",
      "U is upper triangular True\n",
      "True\n"
     ]
    }
   ],
   "source": [
    "print('Pentadiagonal matrix:')\n",
    "diag_broadcast_5 = [7, 37, 91, 68, 5]\n",
    "A = diags(diag_broadcast_5, offsets_5, shape=(n, n)).toarray()\n",
    "A[0, 0] = 1\n",
    "matr_l, matr_u = band_lu(diag_broadcast_5, n)\n",
    "L = diags(matr_l, [-1, -2], shape=(n, n)).toarray() + np.eye(n)\n",
    "U = diags(matr_u.T, [0, 1, 2], shape=(n, n)).toarray()\n",
    "print('L is lower triangular ', np.allclose(L, np.tril(L)), \n",
    "      '\\nU is upper triangular',  np.allclose(U, np.triu(U)))\n",
    "A_res = L@U\n",
    "print(np.allclose(A - A_res, np.zeros((n, n))))"
   ]
  },
  {
   "cell_type": "markdown",
   "metadata": {},
   "source": [
    "- (2 pts) Compare execution time of the band LU decomposition using standard function from ```scipy```, i.e. which takes the whole matrix and does not know about its special structure, and band decomposition of yours implementation. Comment on the results."
   ]
  },
  {
   "cell_type": "code",
   "execution_count": 134,
   "metadata": {
    "scrolled": true
   },
   "outputs": [],
   "source": [
    "t_band_lu_3, t_scipy_lu_3 = [], []\n",
    "t_band_lu_5, t_scipy_lu_5 = [], []\n",
    "\n",
    "start, stop, step = 10, 1000, 100\n",
    "\n",
    "for n in range(start, stop, step):\n",
    "    \n",
    "    diag = np.random.randint(1, 100, 5)\n",
    "    \n",
    "    t = %timeit -oq band_lu(diag[0:3], n)\n",
    "    t_band_lu_3.append(t.average)\n",
    "    a = diags(diag[:3],offsets_3, shape=(n, n)).toarray()\n",
    "    t = %timeit -oq lu(a)\n",
    "    t_scipy_lu_3.append(t.average)\n",
    "    \n",
    "    t = %timeit -oq band_lu(diag, n)\n",
    "    t_band_lu_5.append(t.average)\n",
    "    a = diags(diag, offsets_5, shape=(n, n)).toarray()\n",
    "    t = %timeit -oq lu(a)\n",
    "    t_scipy_lu_5.append(t.average)"
   ]
  },
  {
   "cell_type": "code",
   "execution_count": 141,
   "metadata": {},
   "outputs": [
    {
     "data": {
      "text/plain": [
       "Text(0.5, 1.0, 'Pentadiagonal matrix')"
      ]
     },
     "execution_count": 141,
     "metadata": {},
     "output_type": "execute_result"
    },
    {
     "data": {
      "text/plain": [
       "<Figure size 720x576 with 0 Axes>"
      ]
     },
     "metadata": {},
     "output_type": "display_data"
    },
    {
     "data": {
      "image/png": "[encoded data removed]",
      "text/plain": [
       "<Figure size 1152x288 with 2 Axes>"
      ]
     },
     "metadata": {
      "needs_background": "light"
     },
     "output_type": "display_data"
    }
   ],
   "source": [
    "plt.figure(figsize=(10, 8))\n",
    "dim = np.arange(start, stop, step)\n",
    "\n",
    "fig, (a0, a1) = plt.subplots(1, 2, figsize=(16,4))\n",
    "\n",
    "label1 = 'scipy LU decomposition'\n",
    "label2 = 'band_lu decomposition'\n",
    "\n",
    "a0.plot(dim, t_scipy_lu_3, label = label1,color = 'red', linewidth=2)\n",
    "a0.plot(dim, t_band_lu_3, label = label2, color = 'green', linewidth=2)\n",
    "a0.set_xlabel ('Matrix size',fontsize=16)\n",
    "a0.set_ylabel('Time',fontsize=16)\n",
    "a0.legend(fontsize=14)\n",
    "a0.set_title(\"Tridiagonal matrix\", fontsize=18)\n",
    "\n",
    "\n",
    "a1.plot(dim, t_scipy_lu_5, label = label1,c = 'red', linewidth=2)\n",
    "a1.plot(dim, t_band_lu_5, label = label2, c = 'green', linewidth=2)\n",
    "a1.set_xlabel ('Matrix size',fontsize=16)\n",
    "a1.set_ylabel('Time',fontsize=16)\n",
    "a1.legend(fontsize=14)\n",
    "a1.set_title(\"Pentadiagonal matrix\", fontsize=18)"
   ]
  },
  {
   "cell_type": "markdown",
   "metadata": {},
   "source": [
    "- (7 pts) Write a function ```cholesky(n)``` for computing Cholesky decomposition. It should take the the single argument - the matrix that will be factorized and return the single output - lower-triangular factor $L$. Think about the efficiency of your implementation and if necessary update it to achieve the best performance (eliminate Python loops, where it is possible and so on). Explicitly describe the difference with LU decomposition that reduces the complexity from $2n^3/3$ for LU to $n^3/3$ for Cholesky. \n",
    "Test the implemented function on the Pascal matrix of given size $n$ for $n = 5, 10, 50$. \n",
    "Pascal matrix is square matrix of the following form (here for $n=4$)\n",
    "$$P = \\begin{pmatrix}\n",
    "1 & 1 & 1 & 1\\\\\n",
    "1 & 2 & 3 & 4 \\\\\n",
    "1 & 3 & 6 & 10 \\\\\n",
    "1 & 4 & 10 & 20 \\\\\n",
    "\\end{pmatrix}.$$\n",
    "\n",
    "    [Here](https://en.wikipedia.org/wiki/Pascal_matrix) you can find more details about such matrices and analytical form for factor $L$ from Cholesky decomposition. Compare the result of your implementation with analytical expression in terms of some matrix norm of difference.  "
   ]
  },
  {
   "cell_type": "markdown",
   "metadata": {},
   "source": [
    "$$l_{kk} = \\sqrt{ a_{kk} - \\sum^{k-1}_{j=1} l^2_{kj}}$$\n",
    "$$l_{ik} = \\frac{1}{l_{kk}} \\left( a_{ik} - \\sum^{k-1}_{j=1} l_{ij} l_{kj} \\right)$$"
   ]
  },
  {
   "cell_type": "code",
   "execution_count": 30,
   "metadata": {},
   "outputs": [
    {
     "name": "stdout",
     "output_type": "stream",
     "text": [
      "A:\n",
      " [[ 1  1  1  1  1]\n",
      " [ 1  2  3  4  5]\n",
      " [ 1  3  6 10 15]\n",
      " [ 1  4 10 20 35]\n",
      " [ 1  5 15 35 70]]\n",
      "L:\n",
      " [[1. 0. 0. 0. 0.]\n",
      " [1. 1. 0. 0. 0.]\n",
      " [1. 2. 1. 0. 0.]\n",
      " [1. 3. 3. 1. 0.]\n",
      " [1. 4. 6. 4. 1.]]\n",
      "True\n",
      "\n",
      "A:\n",
      " [[    1     1     1     1     1     1     1     1     1     1]\n",
      " [    1     2     3     4     5     6     7     8     9    10]\n",
      " [    1     3     6    10    15    21    28    36    45    55]\n",
      " [    1     4    10    20    35    56    84   120   165   220]\n",
      " [    1     5    15    35    70   126   210   330   495   715]\n",
      " [    1     6    21    56   126   252   462   792  1287  2002]\n",
      " [    1     7    28    84   210   462   924  1716  3003  5005]\n",
      " [    1     8    36   120   330   792  1716  3432  6435 11440]\n",
      " [    1     9    45   165   495  1287  3003  6435 12870 24310]\n",
      " [    1    10    55   220   715  2002  5005 11440 24310 48620]]\n",
      "L:\n",
      " [[  1.   0.   0.   0.   0.   0.   0.   0.   0.   0.]\n",
      " [  1.   1.   0.   0.   0.   0.   0.   0.   0.   0.]\n",
      " [  1.   2.   1.   0.   0.   0.   0.   0.   0.   0.]\n",
      " [  1.   3.   3.   1.   0.   0.   0.   0.   0.   0.]\n",
      " [  1.   4.   6.   4.   1.   0.   0.   0.   0.   0.]\n",
      " [  1.   5.  10.  10.   5.   1.   0.   0.   0.   0.]\n",
      " [  1.   6.  15.  20.  15.   6.   1.   0.   0.   0.]\n",
      " [  1.   7.  21.  35.  35.  21.   7.   1.   0.   0.]\n",
      " [  1.   8.  28.  56.  70.  56.  28.   8.   1.   0.]\n",
      " [  1.   9.  36.  84. 126. 126.  84.  36.   9.   1.]]\n",
      "True\n",
      "\n",
      "-176.0\n",
      "A:\n",
      " [[1 1 1 ... 1 1 1]\n",
      " [1 2 3 ... 48 49 50]\n",
      " [1 3 6 ... 1176 1225 1275]\n",
      " ...\n",
      " [1 48 1176 ... 1625701140345170250548615520 3217533506933149454210801550\n",
      "  6303739115624129542943611200]\n",
      " [1 49 1225 ... 3217533506933149454210801550 6435067013866298908421603100\n",
      "  12738806129490428451365214300]\n",
      " [1 50 1275 ... 6303739115624129542943611200\n",
      "  12738806129490428451365214300 25477612258980856902730428600]]\n",
      "L:\n",
      " []\n",
      "True\n",
      "\n"
     ]
    }
   ],
   "source": [
    "from math import sqrt\n",
    "from scipy.linalg import pascal\n",
    "import numpy as np\n",
    " \n",
    "def cholesky(A):\n",
    "    n = len(A)\n",
    "    L = np.zeros((n, n))\n",
    "    for i in range(n):\n",
    "        for k in range(i+1):\n",
    "            tmp_sum = sum(L[i, j] * L[k, j] for j in range(k))\n",
    "            if (i != k):\n",
    "                L[i,k] = (1 / L[k,k] * (A[i,k] - tmp_sum))\n",
    "            else:\n",
    "                if (A[i,i] - tmp_sum) < 0:\n",
    "                    # So we cannot take sqrt from negative number\n",
    "                    print(A[i,i] - tmp_sum)\n",
    "                    return []\n",
    "                L[i,k] = sqrt(A[i,i] - tmp_sum)\n",
    "    return L\n",
    " \n",
    "n_sizes = [5, 10, 50]    \n",
    "for size in n_sizes:\n",
    "    A = pascal(size)\n",
    "    L = cholesky(A)\n",
    "    print(\"A:\\n\", A)\n",
    "    print(\"L:\\n\", L)\n",
    "    isLowerTrian = np.allclose(L, np.tril(L)) # check if lower triangular\n",
    "    print(isLowerTrian)\n",
    "    print()"
   ]
  },
  {
   "attachments": {
    "image.png": {
     "image/png": "[encoded data removed]"
    }
   },
   "cell_type": "markdown",
   "metadata": {},
   "source": [
    "![image.png](attachment:image.png)\n",
    "\n",
    "In case of $n = 50$ the values become too large and integer overflow occurs."
   ]
  },
  {
   "cell_type": "markdown",
   "metadata": {
    "id": "_iM6NwHQOGId"
   },
   "source": [
    "### 2. Stability of LU (8 pts)\n",
    "\n"
   ]
  },
  {
   "cell_type": "markdown",
   "metadata": {},
   "source": [
    "* (4 pts) Show, that for these  matrices $A$ and $B$ LU decomposition fails. Why does it happen?\n",
    "\n",
    "\n",
    "\n",
    "$\n",
    "A = \\begin{pmatrix}\n",
    "0 & 1 \\\\\n",
    "2 & 3\n",
    "\\end{pmatrix}.$ \n",
    "\n",
    "$B = \\begin{pmatrix}\n",
    "1 & 1 & 0\\\\\n",
    "1 & 1 & 2 \\\\\n",
    "1 & 2 & 1\n",
    "\\end{pmatrix}.$ \n",
    "\n",
    "**Solution**\n",
    "\n",
    "An invertible matrix A has an LU decomposition that all its leading submatrices have non-zero determinants.\n",
    "\n",
    "$\n",
    "A = \\begin{pmatrix}\n",
    "0 & 1 \\\\\n",
    "2 & 3\n",
    "\\end{pmatrix}$ does not have an LU decomposition.\n",
    "\n",
    "The first leading submatrix has determinant equal to \n",
    "$ \\quad\n",
    "\\begin{vmatrix}\n",
    "0\n",
    "\\end{vmatrix} = 0\n",
    "$ which means that LU decomposition is not possible in this case.\n",
    "\n",
    "$B = \\begin{pmatrix}\n",
    "1 & 1 & 0\\\\\n",
    "1 & 1 & 2 \\\\\n",
    "1 & 2 & 1\n",
    "\\end{pmatrix}$ does not have an LU decomposition.\n",
    "\n",
    "The second leading submatrix has determinant equal to \n",
    "$ \\quad\n",
    "\\begin{vmatrix}\n",
    "1 & 1 \\\\\n",
    "1 & 1\n",
    "\\end{vmatrix} = 1 - 1 = 0\n",
    "$\n",
    "\n",
    "which means that LU decomposition is not possible in this case."
   ]
  },
  {
   "cell_type": "markdown",
   "metadata": {},
   "source": [
    "* (4 pts) In the LU decomposition, a pivot position is a position of the element that identifies the row and column that will be eliminated in the current step. For example, first pivot in LU is usually the left top element. What value of $c$ leads to zero in the second pivot position? What $c$ produces zero in the third pivot position? What modification of LU should we use in order to address the possible zeros in pivot position?\n",
    "\n",
    "$A = \\begin{pmatrix}\n",
    "1 & c & 0\\\\\n",
    "2 & 4 & 1 \\\\\n",
    "3 & 5 & 1\n",
    "\\end{pmatrix}.$ "
   ]
  },
  {
   "cell_type": "code",
   "execution_count": null,
   "metadata": {
    "id": "CmkB9hxwOGId"
   },
   "outputs": [],
   "source": [
    "# Your solution is here"
   ]
  },
  {
   "cell_type": "markdown",
   "metadata": {
    "id": "YFc3BR_TOGIj"
   },
   "source": [
    "### 3. Implementation of PLU decomposition (14 pts)\n",
    "\n",
    "As you have noticed before, LU decomposition may fail. In order to make it stable, we can use LU decomposition with pivoting  (PLU).\n",
    "\n",
    "We want to find such permutation matrix $P$ that LU decomposition of $PA$ exists\n",
    "\n",
    "$$ PA = LU $$\n",
    "\n",
    "- (7 pts) Implement efficiently PLU decomposition (without loops and with appropriate level of BLAS operations).  Also, pay attention to the way of permutation matrix storage.\n",
    "\n",
    "- (4 pts ) Compare your function for computing PLU with built-in function on matrices of such type ```(mirror_diag = [1,2,1], n = 4)```. (Bandwidth and matrix size may vary). So, you can pass them as dense 2D NumPy array and do not tune your implementation to this special structure. Compare them in terms of running time (use ```%timeit``` magic) for range of dimensions to recover the asymptotic rate of time increasing and in terms of acuracy. We expect you plot the running time vs matrix dimension for built-in function and your implementation. So you should get the plot with two lines.\n",
    "Consider additionally one of the pathological examples from above, where LU fails, but PLU has to work.\n",
    "\n",
    "\n",
    "$$A = \\begin{pmatrix}\n",
    "0 & 0 & 1 & 1 \\\\\n",
    " 0 &1 & 2 & 1  \\\\\n",
    " 1 & 2 & 1  & 0\\\\\n",
    "1 & 2  & 0 & 0  \\\\\n",
    "\\end{pmatrix}.$$\n",
    "\n",
    "\n",
    "- (3 pts) Discuss the obtained results and explain how is it possible to accelerate computing the PLU factorization. \n",
    "\n",
    "NumPy or JAX are both ok in this problem, but please use the single library for all implementations. "
   ]
  },
  {
   "cell_type": "code",
   "execution_count": 20,
   "metadata": {
    "id": "32HpfOPMOGIg"
   },
   "outputs": [],
   "source": [
    "def plu_decomposition(A):\n",
    "    n = A.shape[0]\n",
    "    \n",
    "    P, L = np.eye(n), np.eye(n)\n",
    "    U = A.copy()\n",
    "    _P= np.eye(n)\n",
    "    _L = np.zeros((n, n))\n",
    "    \n",
    "    for k in range(n - 1):\n",
    "        i = np.argmax(abs(U[k:, k])) \n",
    "        i += k\n",
    "        if i != k:\n",
    "            P = np.eye(n)\n",
    "            P[[i, k], k:n] = P[[k, i], k:n]\n",
    "            U[[i, k], k:n] = U[[k, i], k:n] \n",
    "            _P = P @ _P\n",
    "            _L = P @ _L\n",
    "        L = np.eye(n)\n",
    "        _L[k + 1:, k] = (U[k + 1:, k] / U[k, k])\n",
    "        L[k + 1:, k]  = -1 * _L[k + 1:, k]\n",
    "        U = L @ U\n",
    "        \n",
    "    row,col = np.diag_indices(_L.shape[0])  \n",
    "    _L[row,col] = np.ones(_L.shape[0])\n",
    "    return _P.T, _L, U"
   ]
  },
  {
   "cell_type": "code",
   "execution_count": 22,
   "metadata": {},
   "outputs": [
    {
     "name": "stdout",
     "output_type": "stream",
     "text": [
      "A:\n",
      " [[0.67501776 0.35977673 0.837983   0.38981416]\n",
      " [0.83744669 0.41815643 0.34728636 0.07732243]\n",
      " [0.14862719 0.44556212 0.43698061 0.7381087 ]\n",
      " [0.41970486 0.10035971 0.01649052 0.28692942]]\n",
      "P:\n",
      " [[0. 0. 1. 0.]\n",
      " [1. 0. 0. 0.]\n",
      " [0. 1. 0. 0.]\n",
      " [0. 0. 0. 1.]]\n",
      "PA:\n",
      " [[0.14862719 0.44556212 0.43698061 0.7381087 ]\n",
      " [0.67501776 0.35977673 0.837983   0.38981416]\n",
      " [0.83744669 0.41815643 0.34728636 0.07732243]\n",
      " [0.41970486 0.10035971 0.01649052 0.28692942]]\n",
      "L:\n",
      " [[ 1.          0.          0.          0.        ]\n",
      " [ 0.1774766   1.          0.          0.        ]\n",
      " [ 0.80604266  0.06119527  1.          0.        ]\n",
      " [ 0.50117203 -0.29408603 -0.08816498  1.        ]]\n",
      "U:\n",
      " [[0.83744669 0.41815643 0.34728636 0.07732243]\n",
      " [0.         0.37134914 0.3753454  0.72438578]\n",
      " [0.         0.         0.53508602 0.28316001]\n",
      " [0.         0.         0.         0.48617411]]\n",
      "LU:\n",
      " [[0.83744669 0.41815643 0.34728636 0.07732243]\n",
      " [0.14862719 0.44556212 0.43698061 0.7381087 ]\n",
      " [0.67501776 0.35977673 0.837983   0.38981416]\n",
      " [0.41970486 0.10035971 0.01649052 0.28692942]]\n",
      "PA-LU:\n",
      " [[-6.88819498e-01  2.74056886e-02  8.96942483e-02  6.60786271e-01]\n",
      " [ 5.26390568e-01 -8.57853867e-02  4.01002397e-01 -3.48294533e-01]\n",
      " [ 1.62428930e-01  5.83796982e-02 -4.90696645e-01 -3.12491738e-01]\n",
      " [ 0.00000000e+00  0.00000000e+00  1.38777878e-17  0.00000000e+00]]\n",
      "The history saving thread hit an unexpected error (OperationalError('database or disk is full')).History will not be written to the database.\n"
     ]
    }
   ],
   "source": [
    "A = np.random.rand(4, 4) \n",
    "P, L, U = plu_decomposition(A)\n",
    "\n",
    "print(\"A:\\n\",A)\n",
    "print(\"P:\\n\",P)\n",
    "print(\"PA:\\n\", P@A)\n",
    "print(\"L:\\n\",L)\n",
    "print(\"U:\\n\",U)\n",
    "print(\"LU:\\n\",L@U)\n",
    "print(\"PA-LU:\\n\",P@A-L@U)"
   ]
  },
  {
   "cell_type": "markdown",
   "metadata": {
    "id": "EQwdRJSIOGIg"
   },
   "source": [
    "### 4. Block LU (10 pts)\n",
    "\n",
    "Let $A = \\begin{bmatrix} A_{11} & A_{12} \\\\ A_{21} & A_{22} \\end{bmatrix}$ be a block matrix. The goal is to solve the linear system\n",
    "\n",
    "$$\n",
    "     \\begin{bmatrix} A_{11} & A_{12} \\\\ A_{21} & A_{22} \\end{bmatrix} \\begin{bmatrix} u_1 \\\\ u_2 \\end{bmatrix} = \\begin{bmatrix} f_1 \\\\ f_2 \\end{bmatrix}.\n",
    "$$\n"
   ]
  },
  {
   "cell_type": "markdown",
   "metadata": {
    "id": "4RBDYAWUOGIj"
   },
   "source": [
    "* (2pts) Using block elimination find matrix $S$ and right-hand side $\\hat{f_2}$ so that $u_2$ can be found from $S u_2 = \\hat{f_2}$. Note that the matrix $S$ is called <span style=\"color:red\">Schur complement</span> of the block $A_{11}$.\n",
    "\n",
    "**Solution**\n",
    "\n",
    "Suppose, $A_{11}^{-1}$ exists. \n",
    "\n",
    "$\n",
    "\\begin{bmatrix} A_{11} & A_{12} \\\\ A_{21} & A_{22} \\end{bmatrix} \\begin{bmatrix} u_1 \\\\ u_2 \\end{bmatrix} = \\begin{bmatrix} f_1 \\\\ f_2 \\end{bmatrix}\n",
    "$\n",
    "\n",
    "$\n",
    "\\begin{bmatrix} I & 0 \\\\ -A_{21}A_{11}^{-1} & I \\end{bmatrix} \\begin{bmatrix} A_{11} & A_{12} \\\\ A_{21} & A_{22} \\end{bmatrix} \\begin{bmatrix} u_1 \\\\ u_2 \\end{bmatrix} = \\begin{bmatrix} I & 0 \\\\ -A_{21}A_{11}^{-1} & I \\end{bmatrix} \\begin{bmatrix} f_1 \\\\ f_2 \\end{bmatrix}\n",
    "$\n",
    "\n",
    "$\n",
    "\\begin{bmatrix} A_{11} & A_{12} \\\\ -A_{21}A_{11}^{-1}A_{11} + A_{21} & -A_{21}A_{11}^{-1}A_{12} + A_{22} \\end{bmatrix} \\begin{bmatrix} u_1 \\\\ u_2 \\end{bmatrix} = \\begin{bmatrix} f_1 \\\\ f_2 - f_1A_{21}A_{11}^{-1} \\end{bmatrix}\n",
    "$\n",
    "\n",
    "$\n",
    "\\begin{bmatrix} A_{11} & A_{12} \\\\ 0 & -A_{21}A_{11}^{-1}A_{12} + A_{22} \\end{bmatrix} \\begin{bmatrix} u_1 \\\\ u_2 \\end{bmatrix} = \\begin{bmatrix} f_1 \\\\ f_2 - f_1A_{21}A_{11}^{-1} \\end{bmatrix}\n",
    "$\n",
    "\n",
    "$(A_{22} - A_{21}A_{11}^{-1}A_{12} + A_{22}) u_{2} = f_2 - f_1A_{21}A_{11}^{-1}$\n",
    "\n",
    "$S = A_{22} - A_{21}A_{11}^{-1}A_{12} + A_{22}$\n",
    "\n",
    "$\\hat f = f_2 - f_1A_{21}A_{11}^{-1}$"
   ]
  },
  {
   "cell_type": "markdown",
   "metadata": {},
   "source": [
    "* (4 pts) Using Schur complement properties prove that \n",
    "\n",
    "$$\\det(X+AB) = \\det(X)\\det(I+BX^{-1}A), $$\n",
    "\n",
    "where $X$ - nonsingular square matrix."
   ]
  },
  {
   "cell_type": "markdown",
   "metadata": {},
   "source": [
    "**Solution**\n",
    "\n",
    "$M = \\begin{bmatrix} \n",
    "A & B \\\\ C & D \\end{bmatrix} \n",
    "$\n",
    "\n",
    "If $D$ is invertible: $M= \\begin{bmatrix} \n",
    "I_{p} & BD^{-1} \n",
    "\\\\ 0 & I_{q} \\end{bmatrix} \n",
    "\\begin{bmatrix} \n",
    "A-BD^{-1}C & 0 \\\\\n",
    "0 & D \\end{bmatrix} \n",
    "\\begin{bmatrix} \n",
    "I_{p} & 0 \n",
    "\\\\ D^{-1}C & I_{q}\\end{bmatrix} $\n",
    "\n",
    "If $A$ is invertible: $M = \\begin{bmatrix} \n",
    "I_{p} & 0 \\\\ \n",
    "CA^{-1} & I_{q} \\end{bmatrix}\n",
    "\\begin{bmatrix} \n",
    "A & 0 \\\\ \n",
    "0 & D-C^{-1}AB \\end{bmatrix} \n",
    "\\begin{bmatrix} \n",
    "I_{p} & A^{-1}B \n",
    "\\\\ 0 & I_{q} \\end{bmatrix}$\n",
    "\n",
    "$\\det(M) = \\det(A)\\det(D - C A^{-1}B) $\n",
    "\n",
    "$\\det(M) = \\det(D)\\det(A - B D^{-1}C) $\n",
    "\n",
    "If we create a matrix $M$, such as $ M = \\begin{bmatrix} \n",
    "X & A \\\\ -B & I \\end{bmatrix}$\n",
    "\n",
    "$\\det(M)= \\det(X+AB) = \\det(X)\\det(I+BX^{-1}A) $\n"
   ]
  },
  {
   "cell_type": "markdown",
   "metadata": {},
   "source": [
    "* (4 pts) Let matrix $F \\in \\mathbb{R}^{m \\times n}$ and $G \\in \\mathbb{R}^{n \\times m}$. Prove that \n",
    "$$\\det(I_m - FG) = \\det(I_n - GF).$$\n",
    "\n",
    "**Solution**\n",
    "\n",
    "\n",
    "$M = \n",
    "\\begin{bmatrix} \n",
    "I_m & F \n",
    "\\\\ G & I_n \n",
    "\\end{bmatrix}$\n",
    "\n",
    "$\\det(M) = \\det(I_n)\\det(I_m - F G)$\n",
    "\n",
    "$\\det(M) = \\det(I_m)\\det(I_n - GF)$"
   ]
  },
  {
   "cell_type": "markdown",
   "metadata": {},
   "source": [
    "## Problem 2 (eigenvalues)  (50 pts)\n",
    "\n",
    "### 1. Theoretical tasks (15 pts)\n"
   ]
  },
  {
   "cell_type": "markdown",
   "metadata": {},
   "source": [
    "* (2 pts) Prove that eigenvectors that correspond to distinct eigenvalues are linearly independent.\n",
    "\n",
    "**Solution**\n",
    "\n",
    "Def: an eigenvector of $A_{n\\times n}$ is a nonzero vector **x** such that $Ax = \\lambda x$ for some scalar $\\lambda$.\n",
    "\n",
    "Def: a scalar $\\lambda$ is called eigenvalue of $A$ if there is a nontrivial solution **x** of $Ax = \\lambda x$; such an **x** is called an eigenvector corresponding to $\\lambda$\n",
    "\n",
    "Let's assume that we have an indexed linearly dependent set S of the eigenvectors $S = \\{v_{1}, v_{2}, ..., v_{r}\\}$, and $v_{1} \\neq 0$, then some $v_{j}$ , where $j > 1$, is a linear combination of preceding vectors. Let p be the least index when $v_{p+1}$ is a linear combination of preceding vectors.\n",
    "\n",
    "$$ c_{1}v_{1} + ... + c_{p}v_{p} = v_{p+1} \\quad (1)$$\n",
    "$$ c_{1}Av_{1} + ... + c_{p}Av_{p} = Av_{p+1}$$\n",
    "$$ Av_{s} = \\lambda v_{s} $$\n",
    "$$ c_{1}\\lambda_{1}v_{1} + ... + c_{p}\\lambda_{p}v_{p} = \\lambda_{p+1}v_{p+1} \\quad (2)$$ \n",
    "\n",
    "$$ (2) - \\lambda_{p+1} \\cdot (1) = (3)$$\n",
    "\n",
    "\n",
    "$$  c_{1}\\lambda_{1}v_{1} + ... + c_{p}\\lambda_{p}v_{p} = \\lambda_{p+1}v_{p+1} $$\n",
    "$$  c_{1}\\lambda_{p+1}v_{1} + ... + c_{p}\\lambda_{p+1}v_{p} = \\lambda_{p+1}v_{p+1} $$\n",
    "\n",
    "$$  c_{1}(\\lambda_{1} - \\lambda_{p+1})v_{1} + ... + c_{p}(\\lambda_{p} - \\lambda_{p+1})v_{p} = 0 \\quad (3)$$\n",
    "\n",
    "As we assumed that eigenvectors $\\{v_{1}, v_{2}, ..., v_{r}\\}$ are linearly dependent, all weights should equal to 0 in $(3)$. But they are not going to be zero, because the eigenvalues are distinct, as it was mentioned in problem statement. Consequently, $c_{i} = 0 \\quad i\\in {1...p}$, but it contradicts with the fact that (1) says that $v_{p+1} = 0$, so it is impossible.\n",
    "\n",
    "So, we can say now that $\\{v_{1}, v_{2}, ..., v_{r}\\}$ cannot be linearly dependent and therefore must be linearly independent."
   ]
  },
  {
   "cell_type": "markdown",
   "metadata": {},
   "source": [
    "* (3 pts) $A$ is a matrix such that $a_{i,j} \\ge 0$ and $\\sum_{j}a_{i,j} = 1$ (sum of the elements in each row is 1). Prove that $A$ has an eigenvalue $\\lambda=1$ and that any eigenvalue $\\lambda_i$: $|\\lambda_i| \\le 1$.\n"
   ]
  },
  {
   "cell_type": "markdown",
   "metadata": {},
   "source": [
    "**Solution**\n",
    "\n",
    "Let $v$ be $(1, 1, ..., 1)^{T}_{1\\times n}$\n",
    "\n",
    "$A = \n",
    "\\begin{bmatrix} \n",
    "a_{11} & a_{12} & ... & a_{1n} \\\\ \n",
    "a_{21} & a_{22} & ... & a_{2n} \\\\\n",
    "& & ... & \\\\\n",
    "a_{n1} & a_{n2} & ... & a_{nn}\n",
    "\\end{bmatrix} \n",
    "$\n",
    "\n",
    "$\n",
    "Av = \n",
    "\\begin{bmatrix} \n",
    "a_{11} & a_{12} & ... & a_{1n} \\\\ \n",
    "a_{21} & a_{22} & ... & a_{2n} \\\\\n",
    "& & ... & \\\\\n",
    "a_{n1} & a_{n2} & ... & a_{nn}\n",
    "\\end{bmatrix} \n",
    "\\begin{bmatrix} \n",
    "1 \\\\ \n",
    "1 \\\\\n",
    "... \\\\\n",
    "1 \n",
    "\\end{bmatrix} = \n",
    "\\begin{bmatrix} \n",
    "a_{11} + a_{12} + ... + a_{1n} \\\\ \n",
    "a_{21} + a_{22} + ... + a_{2n} \\\\\n",
    "...  \\\\\n",
    "a_{n1} + a_{n2} + ... + a_{nn}\n",
    "\\end{bmatrix} \n",
    "$\n",
    "\n",
    "With such vector $v$ we obtain the operation of sum of the elements in every row of matrix $A$. \n",
    "\n",
    "$\n",
    "\\begin{bmatrix} \n",
    "a_{11} + a_{12} + ... + a_{1n} \\\\ \n",
    "a_{21} + a_{22} + ... + a_{2n} \\\\\n",
    "...  \\\\\n",
    "a_{n1} + a_{n2} + ... + a_{nn}\n",
    "\\end{bmatrix} = \n",
    "\\begin{bmatrix} \n",
    "1 \\\\ \n",
    "1 \\\\\n",
    "... \\\\\n",
    "1 \n",
    "\\end{bmatrix} \\quad$ Since $Av = \\lambda v \\Longrightarrow \\lambda = 1$, which corresponds to the vector $ v = (1, 1, ..., 1)^{T}_{1\\times n}\n",
    "$\n",
    "\n",
    "$\\sum_{j}a_{i,j}v_{j} = \\lambda v_{i}$ \n",
    "\n",
    "$|v|_{max}=\\max_i|v_i|$\n",
    "\n",
    "$|λ_i||v_i|=|\\sum_j a_{i,j}v_j| \\leq \\sum_j a_{i,j}|v_j| \\leq \\sum_j a_{i,j}|v|_{max} =|v|_{max} $\n",
    "\n",
    "$\\sum_j a_{i,j}=|v|_{max}$ for every $v_i \\Rightarrow |λ_i||v|_{max}\\leq |v|_{max},$ we have an eigenvalue $\\lambda_i$: $|\\lambda_i| \\le 1$"
   ]
  },
  {
   "cell_type": "markdown",
   "metadata": {},
   "source": [
    "* (5 pts) Prove that normal matrix is Hermitian iff its eigenvalues are real. Prove that normal matrix is unitary iff its eigenvalues satisfy $|\\lambda| = 1$. "
   ]
  },
  {
   "cell_type": "markdown",
   "metadata": {},
   "source": [
    "**Solution**\n",
    "\n",
    "1) Prove that normal matrix is Hermitian iff its eigenvalues are real.\n",
    "\n",
    "$\\rightarrow$\n",
    "$$A_{normal} \\Longrightarrow A^*A = AA^*$$\n",
    "$$A = U\\Lambda U^* $$\n",
    "where $U$ is unitary ($ UU^* = U^*U = I$) and $\\Lambda$ is diagonal. \n",
    "\n",
    "$$A_{hermitian} \\Longrightarrow A^* = A$$\n",
    "$$(U\\Lambda U^*)^* = U\\Lambda U^*$$\n",
    "$$A^* = (U\\Lambda U^*)^*  = (U^*)^*\\Lambda^* U^* = U\\Lambda^* U^* = U\\Lambda U^* = A \\Longrightarrow \\Lambda = \\Lambda^*$$\n",
    "\n",
    "We know that $\\Lambda = \\Lambda^*$ and $\\Lambda$ is diagonal, $ \\lambda_i = \\overline{\\lambda_i}$, that is $ \\lambda_{i} \\in \\Lambda$ are real.\n",
    "\n",
    "$\\leftarrow$\n",
    "\n",
    "The eigenvalues of matrix $A$ $ \\lambda_{i} \\in \\Lambda$ are real.\n",
    "$$\\Lambda = \\Lambda^*$$\n",
    "$$U\\Lambda U^* = U\\Lambda^* U^*$$\n",
    "$$A = A^* \\Longrightarrow A_{hermitian}$$\n",
    "\n",
    "$\\blacksquare$\n",
    "\n",
    "2) Prove that normal matrix is unitary iff its eigenvalues satisfy $|\\lambda| = 1$.\n",
    "\n",
    "$\\rightarrow$\n",
    "$$A_{normal} \\Longrightarrow A^*A = AA^*$$\n",
    "$$A = U\\Lambda U^* $$\n",
    "where $U$ is unitary ($ UU^* = U^*U = I$) and $\\Lambda$ is diagonal. \n",
    "\n",
    "$$A_{unitary} \\Longrightarrow AA^* = A^*A = I$$\n",
    "$$AA^* = I$$\n",
    "$$ U\\Lambda U^* (U\\Lambda U^*)^* = I$$\n",
    "$$ U\\Lambda U^* (U^*)^*\\Lambda^* U^* = I$$\n",
    "$$ U\\Lambda \\Lambda^* U^* = I  \\Longrightarrow \\Lambda \\Lambda^* = I$$\n",
    "\n",
    "We know that $ \\Lambda \\Lambda^* = I$ and $\\Lambda$ is diagonal, so it means that the eigenvalues $ \\lambda_{i} \\in \\Lambda$ satisfy $|\\lambda_{i}| = 1  \\quad (\\lambda_i\\overline{\\lambda_i} = 1)$.\n",
    "\n",
    "$\\leftarrow$\n",
    "\n",
    "$$\\Lambda \\Lambda^* = I$$\n",
    "$$ \\Lambda U U^* \\Lambda^* = I$$\n",
    "$$ U \\Lambda U U^* \\Lambda^* U^* = UU^*$$\n",
    "$$AA^* = I$$\n",
    "\n",
    "$$ \\Lambda^* \\Lambda  = I$$\n",
    "$$ \\Lambda^* U* U \\Lambda = I$$\n",
    "$$ U \\Lambda^* U^* U \\Lambda U^* = UU^*$$\n",
    "$$AA^* = I$$\n",
    "\n",
    "We know that $AA^* = I$ and $AA^* = I$, so it means that $A$ is a unitary matrix.\n",
    "\n",
    "$\\blacksquare$"
   ]
  },
  {
   "cell_type": "markdown",
   "metadata": {},
   "source": [
    "* (5 pts) The following problem illustrates instability of the Jordan form. Find theoretically the eigenvalues of the perturbed Jordan block (there is only one $\\varepsilon$ - in the left lower corner):\n",
    "\n",
    "$$\n",
    "    J(\\varepsilon) = \n",
    "    \\begin{bmatrix} \n",
    "     \\lambda & 1 & & & 0 \\\\ \n",
    "     0 & \\lambda & 1 & & \\\\ \n",
    "     & 0 & \\ddots & \\ddots & \\\\ \n",
    "     & & 0 & \\lambda & 1 \\\\ \n",
    "     \\varepsilon & & & 0 & \\lambda  \\\\ \n",
    "    \\end{bmatrix}_{n\\times n}\n",
    "$$\n",
    "\n",
    "   Comment how eigenvalues of $J(0)$ are perturbed for large $n$."
   ]
  },
  {
   "cell_type": "markdown",
   "metadata": {},
   "source": [
    "$\n",
    "\\det(J(\\varepsilon) - \\hat\\lambda I) = 0  \\\\\n",
    "(\\lambda - \\hat \\lambda)^n - (-1)^n \\varepsilon = 0 \\\\\n",
    " (\\lambda - \\hat \\lambda)^n = (-1)^n \\varepsilon\\\\\n",
    " \\lambda - \\hat \\lambda = \\sqrt[n]{(-1)^n \\varepsilon}\\\\\n",
    " \\hat \\lambda = \\lambda - \\sqrt[n]{(-1)^n \\varepsilon}\\\\\n",
    "$\n",
    "\n",
    "The roots (sqrt) are very sensitive to small perturbations in the coefficients which appear because of computation errors."
   ]
  },
  {
   "cell_type": "markdown",
   "metadata": {
    "id": "xWcyqKyrOGIp"
   },
   "source": [
    "### 2. PageRank (35 pts)\n",
    "\n",
    "\n",
    "#### Damping factor importance\n",
    "\n",
    "* (5 pts) Write the function ```pagerank_matrix(G)``` that takes an adjacency matrix $G$ (in both sparse and dense formats) as an input and outputs the corresponding PageRank matrix $A$."
   ]
  },
  {
   "cell_type": "code",
   "execution_count": 4,
   "metadata": {
    "id": "2jktwIc8OGIp"
   },
   "outputs": [],
   "source": [
    "from scipy.sparse import csr_matrix\n",
    "import scipy\n",
    "\n",
    "# INPUT:  G - np.ndarray or sparse matrix\n",
    "# OUTPUT: A - np.ndarray (of size G.shape) or sparse matrix\n",
    "def pagerank_matrix(G):\n",
    "    degree = np.sum(G, axis=1)\n",
    "    degree[degree == 0] = 1\n",
    "    if scipy.sparse.issparse(G):\n",
    "        A = G.multiply(1 / degree)\n",
    "    else:\n",
    "        A = G / degree[np.newaxis, :]\n",
    "    return A"
   ]
  },
  {
   "cell_type": "markdown",
   "metadata": {
    "id": "BtVmgGnYOGIs"
   },
   "source": [
    "* (3 pts) Find PageRank matrix $A$ that corresponds to the following graph: <img src=\"graph.png\" width='250'>\n",
    "What is its largest eigenvalue? What multiplicity does it have?"
   ]
  },
  {
   "cell_type": "code",
   "execution_count": 5,
   "metadata": {},
   "outputs": [
    {
     "name": "stdout",
     "output_type": "stream",
     "text": [
      "Pagerank matrix: \n",
      "[[0.  1.  0.  0.  0. ]\n",
      " [0.  0.  0.5 0.  0. ]\n",
      " [1.  1.  0.  0.  0. ]\n",
      " [0.  0.  0.  0.  1. ]\n",
      " [0.  0.  0.  1.  0. ]]\n",
      "\n",
      "Eigenvalues:  [-0.5+0.5j -0.5-0.5j  1. +0.j   1. +0.j  -1. +0.j ]\n",
      "\n",
      "Eigenvectors:  [[ 6.32455532e-01+0.j          6.32455532e-01-0.j\n",
      "  -4.08248290e-01+0.j          0.00000000e+00+0.j\n",
      "   0.00000000e+00+0.j        ]\n",
      " [-3.16227766e-01+0.31622777j -3.16227766e-01-0.31622777j\n",
      "  -4.08248290e-01+0.j          0.00000000e+00+0.j\n",
      "   0.00000000e+00+0.j        ]\n",
      " [-3.14425867e-16-0.63245553j -3.14425867e-16+0.63245553j\n",
      "  -8.16496581e-01+0.j          0.00000000e+00+0.j\n",
      "   0.00000000e+00+0.j        ]\n",
      " [ 0.00000000e+00+0.j          0.00000000e+00-0.j\n",
      "   0.00000000e+00+0.j          7.07106781e-01+0.j\n",
      "  -7.07106781e-01+0.j        ]\n",
      " [ 0.00000000e+00+0.j          0.00000000e+00-0.j\n",
      "   0.00000000e+00+0.j          7.07106781e-01+0.j\n",
      "   7.07106781e-01+0.j        ]]\n",
      "Largest eigenvalue:  (1.0000000000000002+0j)\n",
      "Multiplicity:  2\n",
      "\n",
      "Sparse pagerank: \n",
      "(array([0, 1, 2, 2, 3, 4], dtype=int32), array([1, 2, 0, 1, 4, 3], dtype=int32))\n"
     ]
    }
   ],
   "source": [
    "G = np.array([\n",
    "    [0, 1, 0, 0, 0], \n",
    "    [0, 0, 1, 0, 0], \n",
    "    [1, 1, 0, 0, 0], \n",
    "    [0, 0, 0, 0, 1], \n",
    "    [0, 0, 0, 1, 0]])\n",
    "\n",
    "A = pagerank_matrix(G)\n",
    "print(\"Pagerank matrix: \")\n",
    "print(A)\n",
    "\n",
    "eigenvalues, eigenvectors = np.linalg.eig(A)\n",
    "\n",
    "print(\"\\nEigenvalues: \", eigenvalues)\n",
    "print(\"\\nEigenvectors: \", eigenvectors)\n",
    "val = eigenvalues[np.argsort(np.absolute(eigenvalues))[::-1]][0]\n",
    "print(\"Largest eigenvalue: \", val)\n",
    "multiplicity = np.isclose(eigenvalues, val).sum()\n",
    "print('Multiplicity: ', multiplicity)\n",
    "\n",
    "print(\"\\nSparse pagerank: \")\n",
    "print(pagerank_matrix(csr_matrix(G)).nonzero())"
   ]
  },
  {
   "cell_type": "markdown",
   "metadata": {},
   "source": [
    "* (5 pts) Implement the power method for a given matrix $A$, an initial guess $x_0$ and a number of iterations ```num_iter```. It should be organized as a function ```power_method(A, x0, num_iter)``` that outputs approximation to eigenvector $x$, eigenvalue $\\lambda$ and history of residuals $\\{\\|Ax_k - \\lambda_k x_k\\|_2\\}$. Make sure that the method converges to the correct solution on a matrix $\\begin{bmatrix} 2 & -1 \\\\ -1 & 2 \\end{bmatrix}$ which is known to have the largest eigenvalue equal to $3$."
   ]
  },
  {
   "cell_type": "code",
   "execution_count": 6,
   "metadata": {
    "id": "uLo7A--rOGIs"
   },
   "outputs": [],
   "source": [
    "# INPUT:  A - np.ndarray (2D), x0 - np.ndarray (1D), num_iter - integer (positive)\n",
    "# OUTPUT: x - np.ndarray (of size x0), l - float, res - np.ndarray (of size num_iter + 1 [include initial guess])\n",
    "def power_method(A, x0, num_iter):\n",
    "    x = x0 / np.linalg.norm(x0)\n",
    "    res = np.empty((num_iter + 1))\n",
    "    Ax = A @ x\n",
    "    l = x @ Ax\n",
    "    res[0] = np.linalg.norm(Ax - l * x)\n",
    "    for i in range(num_iter):\n",
    "        x = Ax\n",
    "        x = x / np.linalg.norm(x)\n",
    "        Ax = A @ x\n",
    "        l = x @ Ax\n",
    "        res[i + 1] = np.linalg.norm(Ax - l * x)  \n",
    "    return x, l, res"
   ]
  },
  {
   "cell_type": "code",
   "execution_count": 7,
   "metadata": {},
   "outputs": [
    {
     "name": "stdout",
     "output_type": "stream",
     "text": [
      "x  [ 0.70711876 -0.70709481]\n",
      "l  2.999999999426406\n",
      "res  [1.00000000e+00 6.00000000e-01 2.19512195e-01 7.39726027e-02\n",
      " 2.46875952e-02 8.23031329e-03 2.74347906e-03 9.14494550e-04\n",
      " 3.04831573e-04 1.01610527e-04 3.38701756e-05]\n"
     ]
    }
   ],
   "source": [
    "A = np.array( [[2, -1], \n",
    "               [-1, 2]])\n",
    "x, l, res = power_method(A, np.array([1, 0]), 10)\n",
    "print('x ', x)\n",
    "print('l ', l)\n",
    "print('res ', res)"
   ]
  },
  {
   "cell_type": "markdown",
   "metadata": {},
   "source": [
    "* (2 pts) Run the power method for the graph presented above and plot residuals $\\|Ax_k - \\lambda_k x_k\\|_2$ as a function of $k$ for ```num_iter=100``` and random initial guess ```x0```.  Explain the absence of convergence. "
   ]
  },
  {
   "cell_type": "code",
   "execution_count": 8,
   "metadata": {},
   "outputs": [
    {
     "data": {
      "text/plain": [
       "Text(0.5, 1.0, 'Convergence of power_method for G')"
      ]
     },
     "execution_count": 8,
     "metadata": {},
     "output_type": "execute_result"
    },
    {
     "data": {
      "image/png": "[encoded data removed]",
      "text/plain": [
       "<Figure size 432x288 with 1 Axes>"
      ]
     },
     "metadata": {
      "needs_background": "light"
     },
     "output_type": "display_data"
    }
   ],
   "source": [
    "size = 2\n",
    "num_iter = 100\n",
    "x = np.random.rand(size)\n",
    "_, _, residuals = power_method(A, x, num_iter)\n",
    "\n",
    "fig = plt.figure()\n",
    "plt.plot(residuals, color='red', linewidth=2)\n",
    "plt.xlabel ('Iter',fontsize=16)\n",
    "plt.ylabel('Residual',fontsize=16)\n",
    "plt.xticks(fontsize=14)\n",
    "plt.yticks(fontsize=14)\n",
    "plt.title('Convergence of power_method for G', fontsize=18)"
   ]
  },
  {
   "cell_type": "markdown",
   "metadata": {},
   "source": [
    "* (2 pts) Consider the same graph, but with additional self loop at node 4 (self loop is an edge that connects a vertex with itself). Plot residuals as in the previous task and discuss the convergence. Now, run the power method with ```num_iter=100``` for 10 different initial guesses and print/plot the resulting approximated eigenvectors. Why do they depend on the initial guess?\n"
   ]
  },
  {
   "cell_type": "code",
   "execution_count": 10,
   "metadata": {},
   "outputs": [
    {
     "name": "stdout",
     "output_type": "stream",
     "text": [
      "Pagerank matrix: \n",
      "[[0.  1.  0.  0.  0. ]\n",
      " [0.  0.  0.5 0.  0. ]\n",
      " [1.  1.  0.  0.  0. ]\n",
      " [0.  0.  0.  0.  0.5]\n",
      " [0.  0.  0.  1.  0.5]]\n",
      "Eigenvalues:  [ 1. +0.j   1. +0.j  -0.5-0.5j -0.5+0.5j -0.5+0.j ]\n"
     ]
    }
   ],
   "source": [
    "G[4, 4] = 1\n",
    "\n",
    "A_loop = pagerank_matrix(G)\n",
    "print(\"Pagerank matrix: \")\n",
    "print(A_loop)\n",
    "evals = np.linalg.eig(A_loop)[0]\n",
    "order = np.argsort(np.absolute(evals))[::-1]\n",
    "print(\"Eigenvalues: \", evals[order])"
   ]
  },
  {
   "cell_type": "code",
   "execution_count": 12,
   "metadata": {},
   "outputs": [
    {
     "data": {
      "text/plain": [
       "Text(0.5, 1.0, 'Convergence of power_method for G with additional loop')"
      ]
     },
     "execution_count": 12,
     "metadata": {},
     "output_type": "execute_result"
    },
    {
     "data": {
      "image/png": "[encoded data removed]",
      "text/plain": [
       "<Figure size 432x288 with 1 Axes>"
      ]
     },
     "metadata": {
      "needs_background": "light"
     },
     "output_type": "display_data"
    }
   ],
   "source": [
    "x = np.random.rand(A_loop.shape[0])\n",
    "x, l, residuals = power_method(A_loop, x, 100)\n",
    "\n",
    "fig = plt.figure()\n",
    "plt.plot(residuals, color='red', linewidth=2)\n",
    "plt.xlabel ('Iter',fontsize=16)\n",
    "plt.ylabel('Residual',fontsize=16)\n",
    "plt.xticks(fontsize=14)\n",
    "plt.yticks(fontsize=14)\n",
    "plt.ylim(bottom=0);\n",
    "plt.title('Convergence of power_method for G with additional loop', fontsize=18)"
   ]
  },
  {
   "cell_type": "code",
   "execution_count": 13,
   "metadata": {},
   "outputs": [
    {
     "name": "stdout",
     "output_type": "stream",
     "text": [
      "[0.24266713 0.24266713 0.48533427 0.35963203 0.71926405] 1.0\n",
      "[0.18936063 0.18936063 0.37872125 0.39619574 0.79239148] 1.0\n",
      "[0.27419125 0.27419125 0.54838249 0.33133517 0.66267033] 1.0\n",
      "[0.3590051  0.3590051  0.71801019 0.21292818 0.42585635] 0.9999999999999998\n",
      "[0.22896286 0.22896286 0.45792572 0.3702583  0.7405166 ] 1.0000000000000004\n",
      "[0.33733236 0.33733236 0.67466473 0.25188937 0.50377873] 1.0\n",
      "[0.28722871 0.28722871 0.57445742 0.31780434 0.63560869] 0.9999999999999998\n",
      "[0.40466349 0.40466349 0.80932699 0.05913501 0.11827002] 0.9999999999999998\n",
      "[0.3984855  0.3984855  0.79697099 0.09721714 0.19443427] 0.9999999999999996\n",
      "[0.35793853 0.35793853 0.71587706 0.21507211 0.43014421] 1.0000000000000002\n"
     ]
    }
   ],
   "source": [
    "for i in range(10):\n",
    "    x0 = np.random.rand(A_loop.shape[0])\n",
    "    x, l, _ = power_method(A_loop, x0, 100)\n",
    "    print(x, l)"
   ]
  },
  {
   "cell_type": "markdown",
   "metadata": {
    "id": "9hAowO6zOGIu"
   },
   "source": [
    "\n",
    "\n",
    "In order to avoid this problem Larry Page and Sergey Brin [proposed](http://ilpubs.stanford.edu:8090/422/1/1999-66.pdf) to use the following regularization technique:\n",
    "\n",
    "$$\n",
    "A_d = dA + \\frac{1-d}{N} \\begin{pmatrix} 1 & \\dots & 1 \\\\ \\vdots & & \\vdots \\\\ 1 & \\dots & 1 \\end{pmatrix},\n",
    "$$\n",
    "\n",
    "where $d$ is a small parameter in $[0,1]$ (typically $d=0.85$), which is called **damping factor**, $A$ is of size $N\\times N$. Now $A_d$ is the matrix with multiplicity of the largest eigenvalue equal to 1. \n",
    "Recall that computing the eigenvector of the PageRank matrix, which corresponds to the largest eigenvalue, has the following interpretation. Consider a person who stays in a random node of a graph (i.e. opens a random web page); at each step s/he follows one of the outcoming edges uniformly at random (i.e. opens one of the links). So the person randomly walks through the graph and the eigenvector we are looking for is exactly his/her stationary distribution â€” for each node it tells you the probability of visiting this particular node. Therefore, if the person has started from a part of the graph which is not connected with the other part, he will never get there.  In the regularized model, the person at each step follows one of the outcoming links with probability $d$ OR teleports to a random node from the whole graph with probability $(1-d)$.\n",
    "\n",
    "* (2 pts) Now, run the power method with $A_d$ and plot residuals $\\|A_d x_k - \\lambda_k x_k\\|_2$ as a function of $k$ for $d=0.97$, ```num_iter=100``` and a random initial guess ```x0```.\n",
    "\n",
    "* (5 pts) Find the second largest in the absolute value eigenvalue of the obtained matrix $A_d$. How and why is it connected to the damping factor $d$? What is the convergence rate of the PageRank algorithm when using damping factor?\n",
    "\n",
    "Usually, graphs that arise in various areas are sparse (social, web, road networks, etc.) and, thus, computation of a matrix-vector product for corresponding PageRank matrix $A$ is much cheaper than $\\mathcal{O}(N^2)$. However, if $A_d$ is calculated directly, it becomes dense and, therefore, $\\mathcal{O}(N^2)$ cost grows prohibitively large for  big $N$.\n",
    "\n",
    "\n",
    "* (2 pts) Implement fast matrix-vector product for $A_d$ as a function ```pagerank_matvec(A, d, x)```, which takes a PageRank matrix $A$ (in sparse format, e.g., ```csr_matrix```), damping factor $d$ and a vector $x$ as an input and returns $A_dx$ as an output. \n",
    "\n",
    "* (1 pts) Generate a random adjacency matrix of size $10000 \\times 10000$ with only 100 non-zero elements and compare ```pagerank_matvec``` performance with direct evaluation of $A_dx$."
   ]
  },
  {
   "cell_type": "code",
   "execution_count": 26,
   "metadata": {},
   "outputs": [
    {
     "data": {
      "image/png": "[encoded data removed]",
      "text/plain": [
       "<Figure size 432x288 with 1 Axes>"
      ]
     },
     "metadata": {
      "needs_background": "light"
     },
     "output_type": "display_data"
    }
   ],
   "source": [
    "def dampen_matrix(A, d=0.85):\n",
    "    N = A.shape[0]\n",
    "    return d * A + (1 - d) / N * np.ones((N, N))\n",
    "\n",
    "num_iter = 100\n",
    "A_d = dampen_matrix(A, d=0.97)\n",
    "x0 = np.random.rand(A_d.shape[0])\n",
    "_, _, res = power_method(A_d, x0, num_iter)\n",
    "\n",
    "fig = plt.figure()\n",
    "plt.plot(res, color='red', linewidth=2)\n",
    "plt.xlabel ('Iter',fontsize=16)\n",
    "plt.ylabel('Residual',fontsize=16)\n",
    "plt.xticks(fontsize=14)\n",
    "plt.yticks(fontsize=14)\n",
    "plt.ylim(bottom=0);"
   ]
  },
  {
   "cell_type": "code",
   "execution_count": 27,
   "metadata": {},
   "outputs": [
    {
     "name": "stdout",
     "output_type": "stream",
     "text": [
      "[2.91 1.  ]\n"
     ]
    }
   ],
   "source": [
    "A_d = dampen_matrix(A, 0.97)\n",
    "eigenvalues = np.linalg.eig(A_d)[0]\n",
    "print(eigenvalues)"
   ]
  },
  {
   "cell_type": "code",
   "execution_count": 29,
   "metadata": {
    "id": "4o3LKx5UOGIv"
   },
   "outputs": [],
   "source": [
    "# INPUT:  A - np.ndarray (2D), d - float (from 0.0 to 1.0), x - np.ndarray (1D, size of A.shape[0/1])\n",
    "# OUTPUT: y - np.ndarray (1D, size of x)\n",
    "def pagerank_matvec(A, d, x): # 2 pts\n",
    "    B = A.dot(x)\n",
    "    y = np.matmul(B, d) \n",
    "    y += np.mean(x) * (1 - d) \n",
    "    return y"
   ]
  },
  {
   "cell_type": "markdown",
   "metadata": {
    "id": "ru70NGUlOGIy"
   },
   "source": [
    "#### DBLP: computer science bibliography\n",
    "\n",
    "Download the dataset from [here](https://goo.gl/oZVxEa), unzip it and put `dblp_authors.npz`  and `dblp_graph.npz` in the same folder with this notebook. Each value (author name) from `dblp_authors.npz` corresponds to the row/column of the matrix from `dblp_graph.npz`. Value at row `i` and column `j` of the matrix from `dblp_graph.npz` corresponds to the number of times author `i` cited papers of the author `j`. Let us now find the most significant scientists according to PageRank model over DBLP data.\n",
    "\n",
    "* (4 pts) Load the weighted adjacency matrix and the authors list into Python using ```load_dblp(...)``` function. Print its density (fraction of nonzero elements). Find top-10 most cited authors from the weighted adjacency matrix. Now, make all the weights of the adjacency matrix equal to 1 for simplicity (consider only existence of connection between authors, not its weight). Obtain the PageRank matrix $A$ from the adjacency matrix and verify that it is stochastic.\n",
    " \n",
    " \n",
    "* (1 pts) In order to provide ```pagerank_matvec``` to your ```power_method``` (without rewriting it) for fast calculation of $A_dx$, you can create a ```LinearOperator```: \n",
    "```python\n",
    "L = scipy.sparse.linalg.LinearOperator(A.shape, matvec=lambda x, A=A, d=d: pagerank_matvec(A, d, x))\n",
    "```\n",
    "Calling ```L@x``` or ```L.dot(x)``` will result in calculation of ```pagerank_matvec(A, d, x)``` and, thus, you can plug $L$ instead of the matrix $A$ in the ```power_method``` directly. **Note:** though in the previous subtask graph was very small (so you could disparage fast matvec implementation), here it is very large (but sparse), so that direct evaluation of $A_dx$ will require $\\sim 10^{12}$ matrix elements to store - good luck with that (^_<).\n",
    "\n",
    "\n",
    "* (2 pts) Run the power method starting from the vector of all ones and plot residuals $\\|A_dx_k - \\lambda_k x_k\\|_2$  as a function of $k$ for $d=0.85$.\n",
    "\n",
    "\n",
    "* (1 pts) Print names of the top-10 authors according to PageRank over DBLP when $d=0.85$. Comment on your findings."
   ]
  },
  {
   "cell_type": "code",
   "execution_count": 45,
   "metadata": {
    "id": "L5ZnW7m-OGIz"
   },
   "outputs": [],
   "source": [
    "from scipy.sparse import load_npz\n",
    "import numpy as np\n",
    "import scipy\n",
    "\n",
    "def load_dblp(path_auth, path_graph):\n",
    "    G = load_npz(path_graph).astype(float)\n",
    "    with np.load(path_auth) as data: authors = data['authors']\n",
    "    return G, authors\n",
    "G, authors = load_dblp('dblp_authors.npz', 'dblp_graph.npz')"
   ]
  },
  {
   "cell_type": "code",
   "execution_count": 46,
   "metadata": {
    "id": "QynfixvjOGI1"
   },
   "outputs": [
    {
     "name": "stdout",
     "output_type": "stream",
     "text": [
      "Denisity of the matrix:  4.4986518152305776e-05\n"
     ]
    }
   ],
   "source": [
    "density = G.nnz / np.prod(G.shape)\n",
    "print(\"Denisity of the matrix: \", density)"
   ]
  },
  {
   "cell_type": "code",
   "execution_count": 47,
   "metadata": {},
   "outputs": [
    {
     "name": "stdout",
     "output_type": "stream",
     "text": [
      "Scott Shenker             119853.0\n",
      "Andrew Zisserman          118558.0\n",
      "Hari Balakrishnan         117253.0\n",
      "Jiawei Han                116708.0\n",
      "Anil K. Jain              113874.0\n",
      "Cordelia Schmid           102996.0\n",
      "Jitendra Malik            101657.0\n",
      "Ion Stoica                98017.0\n",
      "David E. Culler           95762.0\n",
      "David G. Lowe             93678.0\n"
     ]
    }
   ],
   "source": [
    "citations = np.array(G.sum(axis=0)).squeeze()\n",
    "order = citations.argsort()[::-1]\n",
    "for i in order[:10]:\n",
    "    print('{: <25}'.format(authors[i]), citations[i])"
   ]
  },
  {
   "cell_type": "code",
   "execution_count": 48,
   "metadata": {},
   "outputs": [
    {
     "name": "stdout",
     "output_type": "stream",
     "text": [
      "[      0       3       8 ... 1766541 1766545 1766546]\n"
     ]
    },
    {
     "name": "stderr",
     "output_type": "stream",
     "text": [
      "/home/mashmallow/anaconda3/lib/python3.7/site-packages/ipykernel_launcher.py:5: DeprecationWarning: `np.int` is a deprecated alias for the builtin `int`. To silence this warning, use `int` by itself. Doing this will not modify any behavior and is safe. When replacing `np.int`, you may wish to use e.g. `np.int64` or `np.int32` to specify the precision. If you wish to review your current use, check the release note link for additional information.\n",
      "Deprecated in NumPy 1.20; for more details and guidance: https://numpy.org/devdocs/release/1.20.0-notes.html#deprecations\n",
      "  \"\"\"\n"
     ]
    }
   ],
   "source": [
    "no_citations = np.where(G.sum(axis=1) == 0)[0]\n",
    "print(no_citations)\n",
    "G = G + scipy.sparse.csr_matrix((np.ones(no_citations.shape[0], dtype=np.int), (no_citations, no_citations)))"
   ]
  },
  {
   "cell_type": "code",
   "execution_count": 50,
   "metadata": {},
   "outputs": [
    {
     "data": {
      "text/plain": [
       "False"
      ]
     },
     "execution_count": 50,
     "metadata": {},
     "output_type": "execute_result"
    }
   ],
   "source": [
    "G.data[:] = 1\n",
    "A = pagerank_matrix(G)\n",
    "np.isclose(A.sum(axis=0), 1).all()"
   ]
  },
  {
   "cell_type": "markdown",
   "metadata": {
    "id": "hQ2vaIyMOGI3"
   },
   "source": [
    "## Problem 3. QR algorithm (33 pts)\n",
    "\n",
    "* Implement QR-algorithm without shifts. Prototype of the function is given below"
   ]
  },
  {
   "cell_type": "code",
   "execution_count": 78,
   "metadata": {
    "id": "rMHBZLojOGI3"
   },
   "outputs": [],
   "source": [
    "# INPUT: \n",
    "# A_init - square matrix, \n",
    "# num_iter - number of iterations for QR algorithm\n",
    "# OUTPUT: \n",
    "# Ak - transformed matrix A_init given by QR algorithm, \n",
    "# convergence - numpy array of shape (num_iter, ), \n",
    "# where we store the maximal number from the Chebyshev norm \n",
    "# of triangular part of the Ak for every iteration\n",
    "\n",
    "def qr_algorithm(A_init, num_iter): \n",
    "    A = A_init\n",
    "    k = 0\n",
    "    convergence_measure = np.zeros(num_iter)\n",
    "    while k != num_iter:\n",
    "        Q, R = np.linalg.qr(A)  # Compute the qr factorization of a matrix A\n",
    "        A = R @ Q\n",
    "        convergence_measure[k] = np.max(np.absolute(np.tril(A, k=-1)))\n",
    "        k += 1\n",
    "    return A, convergence_measure"
   ]
  },
  {
   "cell_type": "markdown",
   "metadata": {
    "id": "UNrCBNRUOGI6"
   },
   "source": [
    "#### Symmetric case (3 pts)\n",
    "- Create symmetric tridiagonal $11 \\times 11$ matrix with elements $-1, 2, -1$ on sub-, main- and upper diagonal respectively without using loops.\n",
    "- Run $400$ iterations of the QR algorithm for this matrix.\n",
    "- Plot the output matrix with function ```plt.spy(Ak, precision=1e-7)```.\n",
    "- Plot convergence of QR-algorithm."
   ]
  },
  {
   "cell_type": "code",
   "execution_count": 79,
   "metadata": {
    "id": "NuKwQGXbOGI6"
   },
   "outputs": [
    {
     "data": {
      "text/plain": [
       "(-19.950000000000003, 418.95, 0.0, 1.0356815937350303)"
      ]
     },
     "execution_count": 79,
     "metadata": {},
     "output_type": "execute_result"
    },
    {
     "data": {
      "image/png": "[encoded data removed]",
      "text/plain": [
       "<Figure size 1152x288 with 2 Axes>"
      ]
     },
     "metadata": {
      "needs_background": "light"
     },
     "output_type": "display_data"
    },
    {
     "data": {
      "text/plain": [
       "<Figure size 1440x864 with 0 Axes>"
      ]
     },
     "metadata": {},
     "output_type": "display_data"
    }
   ],
   "source": [
    "elements, offset = [-1, 2, -1], [-1, 0, 1]\n",
    "\n",
    "Ak = diags(elements, offset, shape=(11, 11)).toarray()\n",
    "A, convergence = qr_algorithm(Ak, 400)\n",
    "\n",
    "fig, (a0, a1) = plt.subplots(1, 2, figsize=(16,4))\n",
    "plt.figure(figsize=(20, 12))\n",
    "a0.set_title(\"The output matrix A\")\n",
    "a0.spy(A, precision=1e-7)\n",
    "\n",
    "a1.set_title(\"Convergence of QR-algorithm\")\n",
    "a1.plot(convergence, color='green', linewidth=2)\n",
    "a1.axis(ymin=0)"
   ]
  },
  {
   "cell_type": "markdown",
   "metadata": {
    "id": "-lomV2K-OGI8"
   },
   "source": [
    "#### Nonsymmetric case (5 pts)\n",
    "\n",
    "- Create nonsymmetric tridiagonal $11 \\times 11$ matrix with elements $5, 3, -2$ on sub-, main- and upper diagonal respectively without using loops.\n",
    "- Run $250$ iterations of the QR algorithm for this matrix.\n",
    "- Plot the result matrix with function ```plt.spy(Ak, precision=1e-7)```. Is this matrix lower triangular? How does this correspond to the claim about convergence of the QR algorithm?"
   ]
  },
  {
   "cell_type": "code",
   "execution_count": 80,
   "metadata": {
    "id": "C2lGBHjaOGI9"
   },
   "outputs": [
    {
     "data": {
      "text/plain": [
       "(-12.450000000000001, 261.45, 0.0, 6.511370344720215)"
      ]
     },
     "execution_count": 80,
     "metadata": {},
     "output_type": "execute_result"
    },
    {
     "data": {
      "image/png": "[encoded data removed]",
      "text/plain": [
       "<Figure size 1152x288 with 2 Axes>"
      ]
     },
     "metadata": {
      "needs_background": "light"
     },
     "output_type": "display_data"
    }
   ],
   "source": [
    "elements, offset = [5, 3, -2], [-1, 0, 1]\n",
    "\n",
    "Ak = diags(elements, offset, shape=(11, 11)).toarray()\n",
    "A, convergence = qr_algorithm(Ak, 250)\n",
    "\n",
    "fig, (a0, a1) = plt.subplots(1, 2, figsize=(16,4))\n",
    "a0.set_title(\"The output matrix A\")\n",
    "a0.spy(A, precision=1e-7)\n",
    "\n",
    "a1.set_title(\"Convergence of QR-algorithm\")\n",
    "a1.plot(convergence, color='green', linewidth=2)\n",
    "a1.axis(ymin=0)"
   ]
  },
  {
   "cell_type": "code",
   "execution_count": 81,
   "metadata": {},
   "outputs": [
    {
     "name": "stdout",
     "output_type": "stream",
     "text": [
      "[6.80591714 6.80591714 6.244998   6.244998   5.38516481 5.38516481\n",
      " 3.41752717 3.41752717 3.         4.35889894 4.35889894]\n"
     ]
    }
   ],
   "source": [
    "print(np.absolute(np.linalg.eig(Ak)[0]))"
   ]
  },
  {
   "cell_type": "markdown",
   "metadata": {},
   "source": [
    "The resultant matrix is not upper triangular, so it means that the algorithm does not converge.\n",
    "The convergence rate for a block is $q = \\left| \\frac{\\lambda_{m+1}}{\\lambda_{m}}  \\right |$."
   ]
  },
  {
   "cell_type": "markdown",
   "metadata": {},
   "source": [
    "### QR algorithms with Rayleigh Quotient shift (10 pts)\n",
    "\n",
    "In the lectures the Rayleigh Quotient shift was introduced to speed up convergence of power method. Here we ask you to generalize this approach to construct the shifts in QR algorithm.\n",
    "\n",
    "- How to compute the Rayleigh Quotient shift in QR algorithm fast? Provide formulas and explanations how they can be simplified.\n",
    "- Implement explicit QR algorithm with Rayleigh Quotient shift. Please do not worry about implicit orthogonalization, we want to compare convergence only in terms of iterations.\n",
    "- Test your implementation in the symmetric case. Plot the convergence of QR algorithm with and without shift. Choose the dimension $n \\sim 100 $ for more representative results. \n",
    "- How the convergence of the shifted algorithm compares to the simple QR? Why? "
   ]
  },
  {
   "cell_type": "markdown",
   "metadata": {},
   "source": []
  },
  {
   "cell_type": "code",
   "execution_count": 82,
   "metadata": {},
   "outputs": [],
   "source": [
    "# https://github.com/danbar/qr_decomposition/blob/master/qr_decomposition/qr_decomposition.py\n",
    "\n",
    "def qr_algorithm_reileigh(A_init, num_iter):\n",
    "    A = A_init\n",
    "    m, n = A.shape\n",
    "    k = 0\n",
    "    convergence_measure = np.zeros(num_iter)\n",
    "    while k != num_iter:\n",
    "        mu_matrix = np.eye(m) * A[n-1, n-1]\n",
    "        Q, R = np.linalg.qr(A - mu_matrix)  # Compute the qr factorization of a matrix (A -mu_matrix)\n",
    "        A = R @ Q + mu_matrix\n",
    "        convergence_measure[k] = np.max(np.absolute(np.tril(A, k=-1)))\n",
    "        k += 1\n",
    "    return A, convergence_measure"
   ]
  },
  {
   "cell_type": "code",
   "execution_count": 83,
   "metadata": {
    "scrolled": false
   },
   "outputs": [
    {
     "name": "stdout",
     "output_type": "stream",
     "text": [
      "[[ 2. -1.  0.  0.  0.  0.  0.  0.  0.  0.  0.]\n",
      " [-1.  2. -1.  0.  0.  0.  0.  0.  0.  0.  0.]\n",
      " [ 0. -1.  2. -1.  0.  0.  0.  0.  0.  0.  0.]\n",
      " [ 0.  0. -1.  2. -1.  0.  0.  0.  0.  0.  0.]\n",
      " [ 0.  0.  0. -1.  2. -1.  0.  0.  0.  0.  0.]\n",
      " [ 0.  0.  0.  0. -1.  2. -1.  0.  0.  0.  0.]\n",
      " [ 0.  0.  0.  0.  0. -1.  2. -1.  0.  0.  0.]\n",
      " [ 0.  0.  0.  0.  0.  0. -1.  2. -1.  0.  0.]\n",
      " [ 0.  0.  0.  0.  0.  0.  0. -1.  2. -1.  0.]\n",
      " [ 0.  0.  0.  0.  0.  0.  0.  0. -1.  2. -1.]\n",
      " [ 0.  0.  0.  0.  0.  0.  0.  0.  0. -1.  2.]]\n"
     ]
    },
    {
     "data": {
      "text/plain": [
       "(-4.95, 103.95, 0.0, 1.0355767516552183)"
      ]
     },
     "execution_count": 83,
     "metadata": {},
     "output_type": "execute_result"
    },
    {
     "data": {
      "image/png": "[encoded data removed]",
      "text/plain": [
       "<Figure size 1152x288 with 2 Axes>"
      ]
     },
     "metadata": {
      "needs_background": "light"
     },
     "output_type": "display_data"
    },
    {
     "data": {
      "text/plain": [
       "<Figure size 1440x864 with 0 Axes>"
      ]
     },
     "metadata": {},
     "output_type": "display_data"
    },
    {
     "data": {
      "image/png": "[encoded data removed]",
      "text/plain": [
       "<Figure size 1152x288 with 2 Axes>"
      ]
     },
     "metadata": {
      "needs_background": "light"
     },
     "output_type": "display_data"
    },
    {
     "data": {
      "text/plain": [
       "<Figure size 1440x864 with 0 Axes>"
      ]
     },
     "metadata": {},
     "output_type": "display_data"
    }
   ],
   "source": [
    "# Testing on symmetric case with shift\n",
    "elements, offset = [-1, 2, -1], [-1, 0, 1]\n",
    "\n",
    "Ak = diags(elements, offset, shape=(11, 11)).toarray()\n",
    "A, convergence = qr_algorithm_reileigh(Ak, 100)\n",
    "\n",
    "fig, (a0, a1) = plt.subplots(1, 2, figsize=(16,4))\n",
    "plt.figure(figsize=(20, 12))\n",
    "a0.set_title(\"The output matrix A (symmetric case with shift)\")\n",
    "a0.spy(A, precision=1e-7)\n",
    "\n",
    "a1.set_title(\"Convergence of QR-algorithm (symmetric case with shift)\")\n",
    "a1.plot(convergence, color='green', linewidth=2)\n",
    "a1.axis(ymin=0)\n",
    "\n",
    "\n",
    "# Testing on symmetric case without shift\n",
    "elements, offset = [-1, 2, -1], [-1, 0, 1]\n",
    "\n",
    "Ak = diags(elements, offset, shape=(11, 11)).toarray()\n",
    "A, convergence = qr_algorithm(Ak, 100)\n",
    "\n",
    "fig, (a2, a3) = plt.subplots(1, 2, figsize=(16,4))\n",
    "plt.figure(figsize=(20, 12))\n",
    "a2.set_title(\"The output matrix A (symmetric case without shift)\")\n",
    "a2.spy(A, precision=1e-7)\n",
    "\n",
    "a3.set_title(\"Convergence of QR-algorithm (symmetric case without shift)\")\n",
    "a3.plot(convergence, color='green', linewidth=2)\n",
    "a3.axis(ymin=0)"
   ]
  },
  {
   "cell_type": "code",
   "execution_count": 84,
   "metadata": {},
   "outputs": [
    {
     "data": {
      "text/plain": [
       "(-4.95, 103.95, 0.0, 6.511370344720215)"
      ]
     },
     "execution_count": 84,
     "metadata": {},
     "output_type": "execute_result"
    },
    {
     "data": {
      "image/png": "[encoded data removed]",
      "text/plain": [
       "<Figure size 1152x288 with 2 Axes>"
      ]
     },
     "metadata": {
      "needs_background": "light"
     },
     "output_type": "display_data"
    },
    {
     "data": {
      "text/plain": [
       "<Figure size 1440x864 with 0 Axes>"
      ]
     },
     "metadata": {},
     "output_type": "display_data"
    },
    {
     "data": {
      "image/png": "[encoded data removed]",
      "text/plain": [
       "<Figure size 1152x288 with 2 Axes>"
      ]
     },
     "metadata": {
      "needs_background": "light"
     },
     "output_type": "display_data"
    },
    {
     "data": {
      "text/plain": [
       "<Figure size 1440x864 with 0 Axes>"
      ]
     },
     "metadata": {},
     "output_type": "display_data"
    }
   ],
   "source": [
    "elements, offset = [5, 3, -2], [-1, 0, 1]\n",
    "\n",
    "\n",
    "Ak = diags(elements, offset, shape=(11, 11)).toarray()\n",
    "A, convergence = qr_algorithm_reileigh(Ak, 100)\n",
    "\n",
    "fig, (a0, a1) = plt.subplots(1, 2, figsize=(16,4))\n",
    "plt.figure(figsize=(20, 12))\n",
    "a0.set_title(\"The output matrix A (non-symmetric case with shift)\")\n",
    "a0.spy(A, precision=1e-7)\n",
    "\n",
    "a1.set_title(\"Convergence of QR-algorithm (non-symmetric case with shift)\")\n",
    "a1.plot(convergence, color='green', linewidth=2)\n",
    "a1.axis(ymin=0)\n",
    "\n",
    "\n",
    "elements, offset = [5, 3, -2], [-1, 0, 1]\n",
    "\n",
    "\n",
    "Ak = diags(elements, offset, shape=(11, 11)).toarray()\n",
    "A, convergence = qr_algorithm(Ak, 100)\n",
    "\n",
    "fig, (a2, a3) = plt.subplots(1, 2, figsize=(16,4))\n",
    "plt.figure(figsize=(20, 12))\n",
    "a2.set_title(\"The output matrix A (non-symmetric case without shift)\")\n",
    "a2.spy(A, precision=1e-7)\n",
    "\n",
    "a3.set_title(\"Convergence of QR-algorithm (non-symmetric case without shift)\")\n",
    "a3.plot(convergence, color='green', linewidth=2)\n",
    "a3.axis(ymin=0)"
   ]
  },
  {
   "cell_type": "markdown",
   "metadata": {},
   "source": [
    "- Try QR with Rayleigh Quotient shift for a simple matrix $A = \\begin{bmatrix}\n",
    "0 & 1 \\\\\n",
    "1 & 0\n",
    "\\end{bmatrix}$. Does anything change from iteration to iteration? Does shift affect convergence here? Why?"
   ]
  },
  {
   "cell_type": "code",
   "execution_count": 85,
   "metadata": {},
   "outputs": [
    {
     "data": {
      "text/plain": [
       "(-4.95, 103.95, 0.0, 6.511370344720215)"
      ]
     },
     "execution_count": 85,
     "metadata": {},
     "output_type": "execute_result"
    },
    {
     "data": {
      "image/png": "[encoded data removed]",
      "text/plain": [
       "<Figure size 1152x288 with 2 Axes>"
      ]
     },
     "metadata": {
      "needs_background": "light"
     },
     "output_type": "display_data"
    },
    {
     "data": {
      "text/plain": [
       "<Figure size 1440x864 with 0 Axes>"
      ]
     },
     "metadata": {},
     "output_type": "display_data"
    }
   ],
   "source": [
    "Ak = np.array([[0, 1], [1, 0]])\n",
    "A, convergence = qr_algorithm_reileigh(Ak, 12)\n",
    "\n",
    "fig, (a0, a1) = plt.subplots(1, 2, figsize=(16,4))\n",
    "plt.figure(figsize=(20, 12))\n",
    "a0.set_title(\"The output matrix A\")\n",
    "a0.spy(A, precision=1e-7)\n",
    "\n",
    "a1.set_title(\"Convergence of QR-algorithm\")\n",
    "a1.plot(convergence, color='green', linewidth=2)\n",
    "a1.axis(ymin=0)"
   ]
  },
  {
   "cell_type": "markdown",
   "metadata": {},
   "source": [
    "\n",
    "When we consider the matrix  $A = \\begin{bmatrix}\n",
    "0 & 1 \\\\\n",
    "1 & 0\n",
    "\\end{bmatrix}$, we face the case for which QR iteration with the Rayleigh quotient does not converge. \n",
    "\n",
    "In this case $A_{mm}$ = 0, and so the shifted QR algorithm is the same as the unshifted\n",
    "algorithm. Thus,\n",
    "\n",
    "$A^{(0)} = Q^{(1)}R^{(1)} = \\begin{bmatrix}\n",
    "0 & 1 \\\\\n",
    "1 & 0\n",
    "\\end{bmatrix} = \\begin{bmatrix}\n",
    "1 & 0 \\\\\n",
    "0 & 1\n",
    "\\end{bmatrix}$,\n",
    "\n",
    "and \n",
    "\n",
    "$A^{(1)} = R^{(1)}Q^{(1)} = \\begin{bmatrix}\n",
    "1 & 0 \\\\\n",
    "0 & 1\n",
    "\\end{bmatrix} = \\begin{bmatrix}\n",
    "0 & 1 \\\\\n",
    "1 & 0\n",
    "\\end{bmatrix} = A^{(0)}\n",
    "$\n",
    "\n",
    "We see that nothing happens — the algorithm stalls. The reason for this failure is that the eigenvalues of $A$, $λ_{1,2} = ±1$, are located symmetric about the origin, and the estimate $\\mu$ = 0 cannot decide which way to go."
   ]
  },
  {
   "cell_type": "markdown",
   "metadata": {},
   "source": [
    "### QR with Wilkinson shift  (15 pts)\n",
    "\n",
    "To solve the problem that appears in the last example, we can use the Wilkinson shift:\n",
    "\n",
    "$$\\mu = a_m - \\frac {sign(\\delta) b^2_{m-1}} {(|\\delta| + \\sqrt{\\delta^2 + b^2_{m-1}} )},$$\n",
    "\n",
    "where $\\delta = \\frac{(a_{m-1} - a_m)}{2}$. If $\\delta = 0$, then instead of $sign(\\delta)$ you have to choose $1$ or $-1$ arbitrary.\n",
    "The numbers $a_m, b_{m-1}, a_{m-1}$ are taken from matrix $B$:\n",
    "\n",
    "$$\n",
    "    B = \n",
    "    \\begin{bmatrix} \n",
    "     a_{m-1} & b_{m-1} \\\\ \n",
    "     b_{m-1} & a_m \\\\ \n",
    "    \\end{bmatrix},\n",
    "$$  \n",
    "which is a lower right bottom submatrix of $A^{(k)}$. Here $k$ is an iteration counter in QR algorithm.\n",
    "\n",
    "- Compare convergence in the symmetric cases: \n",
    "    - distinctive eigenvalues\n",
    "    - two coincident eigenvalues\n",
    "    - maximum and minimum eigenvalues with the same absolute value\n",
    "Choose the dimension $n \\sim 100 $ for more representative results.\n",
    "What do you observe? "
   ]
  },
  {
   "cell_type": "code",
   "execution_count": 54,
   "metadata": {},
   "outputs": [],
   "source": [
    "def qr_algorithm_wilkinson(A_init, num_iter):\n",
    "    A = A_init\n",
    "    m, n = A.shape\n",
    "    k, mu = 0,  0\n",
    "    convergence_measure = np.zeros(num_iter)\n",
    "    while k != num_iter:\n",
    "        mu_matrix = np.eye(m) * mu\n",
    "        Q, R = np.linalg.qr(A - mu_matrix)  # Compute the qr factorization of a matrix (A -mu_matrix)\n",
    "        A = R @ Q + mu_matrix\n",
    "        convergence_measure[k] = np.max(np.absolute(np.tril(A, k=-1)))\n",
    "        delta = (A[m-2, m-2] - A[m-1, m-1]) / 2\n",
    "        mu = A[m-1, m-1] - np.sign(delta) * A[m-1, m-2] / \\\n",
    "             (np.abs(delta) + np.linalg.norm([delta, A[m-1, m-2]]))\n",
    "        k += 1\n",
    "    return A, convergence_measure"
   ]
  },
  {
   "cell_type": "code",
   "execution_count": 87,
   "metadata": {},
   "outputs": [
    {
     "data": {
      "text/plain": [
       "(-4.95, 103.95, 0.0, 6.511370344720215)"
      ]
     },
     "execution_count": 87,
     "metadata": {},
     "output_type": "execute_result"
    },
    {
     "data": {
      "image/png": "[encoded data removed]",
      "text/plain": [
       "<Figure size 1152x288 with 2 Axes>"
      ]
     },
     "metadata": {
      "needs_background": "light"
     },
     "output_type": "display_data"
    },
    {
     "data": {
      "text/plain": [
       "<Figure size 1440x864 with 0 Axes>"
      ]
     },
     "metadata": {},
     "output_type": "display_data"
    }
   ],
   "source": [
    "# Testing on symmetric case\n",
    "elements, offset = [-1, 2, -1], [-1, 0, 1]\n",
    "\n",
    "Ak = diags(elements, offset, shape=(11, 11)).toarray()\n",
    "A, convergence = qr_algorithm_wilkinson(Ak, 100)\n",
    "\n",
    "fig, (a0, a1) = plt.subplots(1, 2, figsize=(16,4))\n",
    "plt.figure(figsize=(20, 12))\n",
    "a0.set_title(\"The output matrix A\")\n",
    "a0.spy(A, precision=1e-7)\n",
    "\n",
    "a1.set_title(\"Convergence of QR-algorithm\")\n",
    "a1.plot(convergence, color='green', linewidth=2)\n",
    "a1.axis(ymin=0)\n",
    "\n",
    "#https://people.inf.ethz.ch/arbenz/ewp/Lnotes/chapter4.pdf"
   ]
  },
  {
   "cell_type": "code",
   "execution_count": 55,
   "metadata": {},
   "outputs": [
    {
     "data": {
      "text/plain": [
       "(-4.95, 103.95, 0.0, 6.825229979667545)"
      ]
     },
     "execution_count": 55,
     "metadata": {},
     "output_type": "execute_result"
    },
    {
     "data": {
      "image/png": "[encoded data removed]",
      "text/plain": [
       "<Figure size 1152x288 with 2 Axes>"
      ]
     },
     "metadata": {
      "needs_background": "light"
     },
     "output_type": "display_data"
    },
    {
     "data": {
      "text/plain": [
       "<Figure size 1440x864 with 0 Axes>"
      ]
     },
     "metadata": {},
     "output_type": "display_data"
    }
   ],
   "source": [
    "# Testing on non-symmetric case\n",
    "elements, offset = [5, 3, -2], [-1, 0, 1]\n",
    "\n",
    "Ak = diags(elements, offset, shape=(11, 11)).toarray()\n",
    "A, convergence = qr_algorithm_wilkinson(Ak, 100)\n",
    "\n",
    "fig, (a0, a1) = plt.subplots(1, 2, figsize=(16,4))\n",
    "plt.figure(figsize=(20, 12))\n",
    "a0.set_title(\"The output matrix A\")\n",
    "a0.spy(A, precision=1e-7)\n",
    "\n",
    "a1.set_title(\"Convergence of QR-algorithm\")\n",
    "a1.plot(convergence, color='green', linewidth=2)\n",
    "a1.axis(ymin=0)\n"
   ]
  },
  {
   "cell_type": "markdown",
   "metadata": {
    "id": "c_8OYe7wOGI-"
   },
   "source": [
    "## Problem 4. (Movie Recommender system) 15 pts\n",
    "\n",
    "Imagine the world without NLA where you have free evenings and you can watch movies!  \n",
    "But it is always hard to choose a movie to watch. \n",
    "In this problem we suggest you to build your own movie recommender system based on SVD decomposition, so you can combine two perfect things: Numerical Linear Algebra and cinematography!"
   ]
  },
  {
   "cell_type": "markdown",
   "metadata": {
    "id": "W2duSA-Su7CI"
   },
   "source": [
    "In order to build recommender system you need data. \n",
    "Here you are https://grouplens.org/datasets/movielens/1m/\n",
    "\n",
    "Usually all recommender systems may be devided into two groups\n",
    "\n",
    "#### Collaborative filtering. \n",
    "\n",
    "This approach is based on user-item interaction.\n",
    "It has one important assumption: user who has liked an item in the past will also likes the same in the future. Suppose the user A likes the films about vampires. \n",
    "He is Twilight saga fan and he has watched the film \"What we do in the shadows\" and liked it or unliked it, in other words he evaluated it somehow. And suppose another user B, who has the similair behavior to the first user (he is also Twilight saga fan). And the chance, that he will estimate \"What we do in the shadows\" in the same way that user A did, is huge. So, the purpose of the collaborative filtering is to predict a user's behavior based on behavior of the simular users.\n",
    "\n",
    "#### Content based filtering.\n",
    "\n",
    "Collaborative filtering has some essential flaws. The main one is called \"cold start\". \"Cold start\" happens when the new user comes and he has not react anyhow to the items. So we do not know his past behavior and we do not know what to advise. Here content based filtering helps. Often resources gather some extra info about users and items before a user comes down to utilising the resource. So, for example we would know that user likes horror movies before he watched anything on the resource."
   ]
  },
  {
   "cell_type": "markdown",
   "metadata": {
    "id": "mMvQV1zSu7Cg"
   },
   "source": [
    "\n",
    "- In this task you will implement Collaborative filtering based on SVD (we will use the function from the proper package and check if the result recommender system advices the similar movies)"
   ]
  },
  {
   "cell_type": "markdown",
   "metadata": {
    "id": "tMN7EK6gu7Ch"
   },
   "source": [
    "1) (1 pts)  Explore the data. Construct the interaction matrix $M$ of size $m \\times n$ which contains the information of how a certain user rated a certain film. \n",
    "\n",
    "2) (5 pts)  Compute SVD of this matrix. Remeber that matrix $M$ is sparse (one user can hardly watch all the movies) so the good choice would be to use method from ```scipy.sparse.linalg``` package\n",
    "\n",
    "$$ M = USV^{\\top}, $$\n",
    "\n",
    "where $U$ is a $m \\times r $ orthogonal matrix with left singular vectors, which represents the relationship between users and latent factors, $S$ is a $r \\times r $ diagonal matrix, which describes the strength of each latent factor and $V^\\top$ is a $r \\times n$ matrix with right singular vectors, which represent the embeddings of  items (movies in our case) in latent space.\n",
    "Describe any simple heuristic to choose appropriate value for $r$ and explain why do you expect that it will work.\n"
   ]
  },
  {
   "cell_type": "code",
   "execution_count": 58,
   "metadata": {
    "id": "qxYtnm7au7Ci"
   },
   "outputs": [
    {
     "name": "stderr",
     "output_type": "stream",
     "text": [
      "/home/mashmallow/anaconda3/lib/python3.7/site-packages/pandas/util/_decorators.py:311: ParserWarning: Falling back to the 'python' engine because the 'c' engine does not support regex separators (separators > 1 char and different from '\\s+' are interpreted as regex); you can avoid this warning by specifying engine='python'.\n",
      "  return func(*args, **kwargs)\n"
     ]
    },
    {
     "name": "stdout",
     "output_type": "stream",
     "text": [
      "[[5. 0. 0. ... 0. 0. 0.]\n",
      " [0. 0. 0. ... 0. 0. 0.]\n",
      " [0. 0. 0. ... 0. 0. 0.]\n",
      " ...\n",
      " [0. 0. 0. ... 0. 0. 0.]\n",
      " [0. 0. 0. ... 0. 0. 0.]\n",
      " [3. 0. 0. ... 0. 0. 0.]]\n"
     ]
    }
   ],
   "source": [
    "# Importing Libraries\n",
    "import numpy as np\n",
    "import pandas as pd\n",
    "\n",
    "movies_file = 'ml-1m/movies.dat'\n",
    "ratings_file = 'ml-1m/ratings.dat'\n",
    "users_file = 'ml-1m/users.dat'\n",
    "\n",
    "movies = pd.read_csv(movies_file,  sep=\"::\",  header=None, encoding='latin-1')\n",
    "\n",
    "users = pd.read_csv(users_file, sep=\"::\", header=None, encoding='latin-1')\n",
    "\n",
    "data = pd.read_csv(ratings_file, sep=\"::\", header=None, encoding='latin-1')\n",
    "\n",
    "# Create the interaction matrix\n",
    "users = list(data[0].unique())\n",
    "users.sort()\n",
    "user_i = {user:i for i, user in enumerate(users)}\n",
    "\n",
    "films = list(data[1].unique())\n",
    "films.sort()\n",
    "film_i = {film:i for i, film in enumerate(films)}\n",
    "\n",
    "matrix = np.zeros((len(users), len(films)))\n",
    "\n",
    "for _, row in data.iterrows():\n",
    "    matrix[user_i[row[0]]][film_i[row[1]]] = row[2]\n",
    "    \n",
    "print(matrix)    \n"
   ]
  },
  {
   "cell_type": "code",
   "execution_count": 59,
   "metadata": {
    "id": "3zUd9OvBu7Cj"
   },
   "outputs": [
    {
     "name": "stdout",
     "output_type": "stream",
     "text": [
      "U:\n",
      "[[-4.71785773e-03  1.64550698e-03  2.67140840e-03 ... -1.03741264e-02\n",
      "   3.24778519e-03 -1.21918501e-02]\n",
      " [-9.28855590e-03 -2.69781903e-03  3.82152933e-04 ...  9.66573908e-03\n",
      "  -1.28506080e-02 -3.62315491e-03]\n",
      " [-5.01017861e-03 -3.34291508e-03 -3.34366161e-03 ...  1.54722300e-03\n",
      "  -3.28953887e-03  9.28114879e-03]\n",
      " ...\n",
      " [-1.38885083e-03  1.81338730e-03 -1.18789245e-04 ...  7.76348171e-01\n",
      "  -1.45243636e-02 -8.82762699e-03]\n",
      " [-7.00792837e-03  1.87647017e-02 -1.07122502e-02 ... -1.13839596e-02\n",
      "   3.49262589e-01  3.67316772e-03]\n",
      " [-1.89610238e-02  4.08024430e-02 -3.04316280e-03 ... -3.43118829e-04\n",
      "   6.67174074e-03  9.18995160e-02]]\n",
      "S:\n",
      "[1.89321056e+03 6.71343565e+02 5.74852760e+02 ... 1.34879835e-13\n",
      " 1.34879835e-13 4.32824883e-15]\n",
      "V:\n",
      "[[-7.01371394e-02 -2.35438150e-02 -1.37658393e-02 ... -2.61526344e-03\n",
      "  -1.16635687e-03 -1.32565863e-02]\n",
      " [-2.09401541e-02 -2.97924550e-02 -1.67038987e-02 ...  1.87440015e-03\n",
      "   2.26511244e-03  5.02213333e-03]\n",
      " [ 3.01647236e-02 -1.01890706e-02  1.25724193e-02 ...  1.78319162e-03\n",
      "   3.52091700e-03  2.23576838e-02]\n",
      " ...\n",
      " [ 0.00000000e+00  1.38724395e-17 -3.47577570e-17 ... -4.30287511e-18\n",
      "  -5.81542411e-17  1.12739454e-18]\n",
      " [ 0.00000000e+00 -5.53498962e-18 -1.53615537e-18 ... -2.82482963e-18\n",
      "  -1.31452180e-18 -1.72584887e-17]\n",
      " [ 0.00000000e+00  1.63970359e-17 -3.51789509e-17 ...  4.49689321e-17\n",
      "   5.40178749e-17  1.97190042e-17]]\n"
     ]
    }
   ],
   "source": [
    "# Compute Singular Value Decomposition of interaction matrix. You can use built-in functions\n",
    "\n",
    "U, S, V = np.linalg.svd(matrix) # Update this line, it is just example\n",
    "print(\"U:\")\n",
    "print(U)\n",
    "print(\"S:\")\n",
    "print(S)\n",
    "print(\"V:\")\n",
    "print(V)"
   ]
  },
  {
   "cell_type": "markdown",
   "metadata": {
    "id": "SMXnKF5Tu7Cj"
   },
   "source": [
    "3) (2 pts) In order to get weighted item-latent factors, we can multiply $S$ and $V^{T}$. Please, remember that $S$ is diagonal and multiply them efficiently."
   ]
  },
  {
   "cell_type": "code",
   "execution_count": 61,
   "metadata": {
    "id": "VEW4M5Ovu7Cj"
   },
   "outputs": [
    {
     "name": "stdout",
     "output_type": "stream",
     "text": [
      "[-1474.36612449   -97.38651976   399.13235293 ...   -12.55418594\n",
      "   -38.79248527    33.90397209]\n"
     ]
    }
   ],
   "source": [
    "item_latent_factors = S @ V.T\n",
    "print(item_latent_factors)"
   ]
  },
  {
   "cell_type": "markdown",
   "metadata": {
    "id": "eEMDQkkqu7Ck"
   },
   "source": [
    "Now we have vectors that represent our item space. In other words we have $N$ movies and $N$ vectors which describe each movie, a.k.a. embeddings. \n",
    "In order to know if two movies are similar or not we need just to check if the corresponding vectors are similair or not. How we can do this?\n",
    "\n",
    "4) (2 pts)  Implement the cosine metric. If the cosine metric between two vectors equals to $1$ both vectors are collinear, if $0$ vectors are orthogonal, as a result corresponding movies are completely different.\n",
    "\n",
    "$$\n",
    "cosine(u,v) = \\frac{u^{\\top}v}{\\|u\\|_2\\|v\\|_2}\n",
    "$$"
   ]
  },
  {
   "cell_type": "code",
   "execution_count": 62,
   "metadata": {
    "id": "lAR4dXMOOGI_"
   },
   "outputs": [],
   "source": [
    "from numpy.linalg import norm\n",
    "\n",
    "def cosine_metric(u, v):\n",
    "    isCollinear = bool\n",
    "    metric = (u.T @ v) / (norm(u) * norm(v))\n",
    "    if metric == 1.0:\n",
    "        isCollinear = True\n",
    "    return isCollinear\n",
    "    "
   ]
  },
  {
   "cell_type": "markdown",
   "metadata": {
    "id": "6wRZh8ALu7C1"
   },
   "source": [
    "5) (5 pts) Check your result. Implement the fuction, which finds and prints $k$ similar movies to the one you have chosen"
   ]
  },
  {
   "cell_type": "code",
   "execution_count": null,
   "metadata": {
    "id": "26g7MzeWu7C1"
   },
   "outputs": [],
   "source": []
  },
  {
   "cell_type": "markdown",
   "metadata": {
    "id": "oPIQfKcmu7C2"
   },
   "source": [
    "Enjoy watching the recommended movies!\n"
   ]
  }
 ],
 "metadata": {
  "colab": {
   "collapsed_sections": [],
   "name": "hw2_problem_1_3.ipynb",
   "provenance": []
  },
  "kernelspec": {
   "display_name": "Python 3",
   "language": "python",
   "name": "python3"
  },
  "language_info": {
   "codemirror_mode": {
    "name": "ipython",
    "version": 3
   },
   "file_extension": ".py",
   "mimetype": "text/x-python",
   "name": "python",
   "nbconvert_exporter": "python",
   "pygments_lexer": "ipython3",
   "version": "3.7.11"
  }
 },
 "nbformat": 4,
 "nbformat_minor": 1
}
